{
 "cells": [
  {
   "cell_type": "markdown",
   "id": "c31fcee5",
   "metadata": {},
   "source": [
    "# NLP (continued)"
   ]
  },
  {
   "cell_type": "code",
   "execution_count": 1,
   "id": "cb1f425a",
   "metadata": {},
   "outputs": [],
   "source": [
    "from sklearn.feature_extraction.text import CountVectorizer"
   ]
  },
  {
   "cell_type": "code",
   "execution_count": 9,
   "id": "541ccba6",
   "metadata": {},
   "outputs": [
    {
     "name": "stdout",
     "output_type": "stream",
     "text": [
      "Vocabulary ['fun' 'love' 'love nlp' 'nlp' 'nlp fun']\n",
      "Bag of words\n",
      " [[0 1 1 1 0]\n",
      " [1 0 0 1 1]]\n"
     ]
    }
   ],
   "source": [
    "corpus = [\"I love NLP so much\", \"NLP is so much fun\"]\n",
    "vectorizer = CountVectorizer(ngram_range=(1,2), stop_words=\"english\")\n",
    "data = vectorizer.fit_transform(corpus)\n",
    "vocabulary = vectorizer.get_feature_names_out()\n",
    "print(\"Vocabulary\", vocabulary)\n",
    "\n",
    "result = data.toarray()\n",
    "print(\"Bag of words\\n\", result)"
   ]
  }
 ],
 "metadata": {
  "kernelspec": {
   "display_name": "cs685hw",
   "language": "python",
   "name": "python3"
  },
  "language_info": {
   "codemirror_mode": {
    "name": "ipython",
    "version": 3
   },
   "file_extension": ".py",
   "mimetype": "text/x-python",
   "name": "python",
   "nbconvert_exporter": "python",
   "pygments_lexer": "ipython3",
   "version": "3.10.16"
  }
 },
 "nbformat": 4,
 "nbformat_minor": 5
}

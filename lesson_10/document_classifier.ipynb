{
 "cells": [
  {
   "cell_type": "markdown",
   "id": "891d1716",
   "metadata": {},
   "source": [
    "# NLP - IF-IDF - Document Classifier Model\n",
    "Goal: Classify Career levels"
   ]
  },
  {
   "cell_type": "code",
   "execution_count": 149,
   "id": "3a3d8816",
   "metadata": {},
   "outputs": [],
   "source": [
    "import pandas as pd\n",
    "import numpy as np\n",
    "from sklearn.feature_extraction.text import TfidfVectorizer\n",
    "from sklearn.model_selection import train_test_split\n",
    "from sklearn.preprocessing import OneHotEncoder, FunctionTransformer\n",
    "import re\n",
    "from sklearn.compose import ColumnTransformer\n",
    "from sklearn.pipeline import Pipeline\n",
    "from sklearn.impute import SimpleImputer\n",
    "from sklearn.linear_model import LogisticRegression\n"
   ]
  },
  {
   "cell_type": "code",
   "execution_count": 138,
   "id": "ab9ed550",
   "metadata": {},
   "outputs": [
    {
     "data": {
      "text/plain": [
       "'MA'"
      ]
     },
     "execution_count": 138,
     "metadata": {},
     "output_type": "execute_result"
    }
   ],
   "source": [
    "def filter_location(str):\n",
    "    pattern = r\"\\,\\s[A-Z]{2}$\"\n",
    "    result = re.findall(pattern,str)\n",
    "    if len(result) == 1:\n",
    "        return result[0][2:]\n",
    "    else: \n",
    "        return str\n",
    "filter_location(\"Boston, MA\")"
   ]
  },
  {
   "cell_type": "code",
   "execution_count": 139,
   "id": "1eedb9ad",
   "metadata": {},
   "outputs": [
    {
     "data": {
      "text/html": [
       "<div>\n",
       "<style scoped>\n",
       "    .dataframe tbody tr th:only-of-type {\n",
       "        vertical-align: middle;\n",
       "    }\n",
       "\n",
       "    .dataframe tbody tr th {\n",
       "        vertical-align: top;\n",
       "    }\n",
       "\n",
       "    .dataframe thead th {\n",
       "        text-align: right;\n",
       "    }\n",
       "</style>\n",
       "<table border=\"1\" class=\"dataframe\">\n",
       "  <thead>\n",
       "    <tr style=\"text-align: right;\">\n",
       "      <th></th>\n",
       "      <th>title</th>\n",
       "      <th>location</th>\n",
       "      <th>description</th>\n",
       "      <th>function</th>\n",
       "      <th>industry</th>\n",
       "      <th>career_level</th>\n",
       "    </tr>\n",
       "  </thead>\n",
       "  <tbody>\n",
       "    <tr>\n",
       "      <th>0</th>\n",
       "      <td>Technical Professional Lead - Process</td>\n",
       "      <td>TX</td>\n",
       "      <td>Responsible for the study, design, and specifi...</td>\n",
       "      <td>production_manufacturing</td>\n",
       "      <td>Machinery and Industrial Facilities Engineering</td>\n",
       "      <td>senior_specialist_or_project_manager</td>\n",
       "    </tr>\n",
       "    <tr>\n",
       "      <th>1</th>\n",
       "      <td>Cnslt - Systems Eng- Midrange 1</td>\n",
       "      <td>WA</td>\n",
       "      <td>Participates in design, development and implem...</td>\n",
       "      <td>information_technology_telecommunications</td>\n",
       "      <td>Financial Services</td>\n",
       "      <td>senior_specialist_or_project_manager</td>\n",
       "    </tr>\n",
       "    <tr>\n",
       "      <th>2</th>\n",
       "      <td>SharePoint Developers and Solution Architects</td>\n",
       "      <td>TX</td>\n",
       "      <td>We are currently in need of Developers who can...</td>\n",
       "      <td>consulting</td>\n",
       "      <td>IT Consulting</td>\n",
       "      <td>senior_specialist_or_project_manager</td>\n",
       "    </tr>\n",
       "    <tr>\n",
       "      <th>3</th>\n",
       "      <td>Business Information Services - Strategic Acco...</td>\n",
       "      <td>North Carolina</td>\n",
       "      <td>Experian is seeking an experienced Account Exe...</td>\n",
       "      <td>sales</td>\n",
       "      <td>Security, Risk, Restructuring Consulting</td>\n",
       "      <td>senior_specialist_or_project_manager</td>\n",
       "    </tr>\n",
       "    <tr>\n",
       "      <th>4</th>\n",
       "      <td>Strategic Development Director (procurement)</td>\n",
       "      <td>TX</td>\n",
       "      <td>Â Want to join a world-class global procuremen...</td>\n",
       "      <td>procurement_materials_logistics</td>\n",
       "      <td>Information Technology</td>\n",
       "      <td>bereichsleiter</td>\n",
       "    </tr>\n",
       "  </tbody>\n",
       "</table>\n",
       "</div>"
      ],
      "text/plain": [
       "                                               title        location  \\\n",
       "0              Technical Professional Lead - Process              TX   \n",
       "1                    Cnslt - Systems Eng- Midrange 1              WA   \n",
       "2      SharePoint Developers and Solution Architects              TX   \n",
       "3  Business Information Services - Strategic Acco...  North Carolina   \n",
       "4       Strategic Development Director (procurement)              TX   \n",
       "\n",
       "                                         description  \\\n",
       "0  Responsible for the study, design, and specifi...   \n",
       "1  Participates in design, development and implem...   \n",
       "2  We are currently in need of Developers who can...   \n",
       "3  Experian is seeking an experienced Account Exe...   \n",
       "4  Â Want to join a world-class global procuremen...   \n",
       "\n",
       "                                    function  \\\n",
       "0                   production_manufacturing   \n",
       "1  information_technology_telecommunications   \n",
       "2                                 consulting   \n",
       "3                                      sales   \n",
       "4            procurement_materials_logistics   \n",
       "\n",
       "                                          industry  \\\n",
       "0  Machinery and Industrial Facilities Engineering   \n",
       "1                               Financial Services   \n",
       "2                                    IT Consulting   \n",
       "3         Security, Risk, Restructuring Consulting   \n",
       "4                           Information Technology   \n",
       "\n",
       "                           career_level  \n",
       "0  senior_specialist_or_project_manager  \n",
       "1  senior_specialist_or_project_manager  \n",
       "2  senior_specialist_or_project_manager  \n",
       "3  senior_specialist_or_project_manager  \n",
       "4                        bereichsleiter  "
      ]
     },
     "execution_count": 139,
     "metadata": {},
     "output_type": "execute_result"
    }
   ],
   "source": [
    "# Làm gọn location\n",
    "data = pd.read_excel(\"../datasets/final_project.ods\", engine='odf',dtype=\"string\")\n",
    "data['location'] = data['location'].apply(filter_location)\n",
    "data.head()\n"
   ]
  },
  {
   "cell_type": "code",
   "execution_count": 91,
   "id": "5847045f",
   "metadata": {},
   "outputs": [
    {
     "data": {
      "text/plain": [
       "<StringArray>\n",
       "[  'senior_specialist_or_project_manager',\n",
       "                         'bereichsleiter',\n",
       "                    'manager_team_leader',\n",
       "          'director_business_unit_leader',\n",
       "                             'specialist',\n",
       " 'managing_director_small_medium_company']\n",
       "Length: 6, dtype: string"
      ]
     },
     "execution_count": 91,
     "metadata": {},
     "output_type": "execute_result"
    }
   ],
   "source": [
    "data['career_level'].unique()"
   ]
  },
  {
   "cell_type": "markdown",
   "id": "1f94241e",
   "metadata": {},
   "source": [
    "## Preprocessing"
   ]
  },
  {
   "cell_type": "markdown",
   "id": "233c6815",
   "metadata": {},
   "source": [
    "### Split data"
   ]
  },
  {
   "cell_type": "code",
   "execution_count": 140,
   "id": "b8c8ac4f",
   "metadata": {},
   "outputs": [],
   "source": [
    "# Split data into features and target\n",
    "target = 'career_level'\n",
    "X = data.drop(labels=target,axis=1)\n",
    "y = data[target]\n",
    "\n",
    "# Split for train & test\n",
    "# stratify=y ensures the same label proportion across all subsets.\n",
    "X_train, X_test, y_train, y_test = train_test_split(X,y,test_size=0.2,random_state=42,stratify=y)"
   ]
  },
  {
   "cell_type": "code",
   "execution_count": 93,
   "id": "0f3c80c0",
   "metadata": {},
   "outputs": [
    {
     "name": "stdout",
     "output_type": "stream",
     "text": [
      "career_level\n",
      "senior_specialist_or_project_manager      3470\n",
      "manager_team_leader                       2138\n",
      "bereichsleiter                             768\n",
      "director_business_unit_leader               56\n",
      "specialist                                  24\n",
      "managing_director_small_medium_company       3\n",
      "Name: count, dtype: Int64\n",
      "--------------------------------------\n",
      "career_level\n",
      "senior_specialist_or_project_manager      868\n",
      "manager_team_leader                       534\n",
      "bereichsleiter                            192\n",
      "director_business_unit_leader              14\n",
      "specialist                                  6\n",
      "managing_director_small_medium_company      1\n",
      "Name: count, dtype: Int64\n"
     ]
    }
   ],
   "source": [
    "print(y_train.value_counts())\n",
    "print('--------------------------------------')\n",
    "print(y_test.value_counts())"
   ]
  },
  {
   "cell_type": "markdown",
   "id": "5bc4d7d6",
   "metadata": {},
   "source": [
    "### \"title\" column"
   ]
  },
  {
   "cell_type": "code",
   "execution_count": 94,
   "id": "848b120e",
   "metadata": {},
   "outputs": [
    {
     "name": "stdout",
     "output_type": "stream",
     "text": [
      "{'laboratory': 1542, 'manager': 1650, 'savannah': 2404, 'business': 407, 'dynamics': 887, 'consultants': 631, 'new': 1865, 'york': 3009, 'sr': 2570, 'systems': 2681, 'engineer': 958, 'head': 1264, 'sales': 2390, 'elements': 929, 'software': 2527, 'engineering': 960, 'senior': 2458, 'program': 2178, 'officer': 1919, 'chemistry': 497, 'manufacturing': 1661, 'controls': 653, 'regional': 2287, 'western': 2957, 'canada': 424, 'enterprise': 972, 'executive': 1023, 'midwest': 1763, 'security': 2444, 'solutions': 2533, 'architect': 223, 'associate': 253, 'benefits': 326, 'consulting': 635, 'itc': 1482, 'enhancements': 967, 'inside': 1408, 'development': 794, 'project': 2185, 'ii': 1356, 'digital': 809, 'analytics': 187, 'director': 818, 'training': 2771, 'quality': 2241, 'corporate': 669, 'major': 1643, 'accounts': 86, 'team': 2698, 'west': 2955, 'planning': 2090, 'analysis': 183, 'management': 1649, 'safety': 2386, 'commercial': 584, 'excellence': 1018, 'asia': 242, 'pacific': 1995, 'marketing': 1673, 'critical': 694, 'care': 438, 'strategic': 2616, 'account': 83, 'dallas': 733, 'tx': 2820, 'qa': 2232, 'analyst': 184, 'oracle': 1960, 'spares': 2547, 'mgmt': 1741, 'fas': 1056, 'administrative': 111, 'applications': 214, 'service': 2471, 'north': 1880, 'east': 892, 'performance': 2043, 'principal': 2152, 'infrastructure': 1399, 'pivotal': 2083, 'global': 1206, 'key': 1522, 'ip': 1463, 'attorney': 267, 'litigation': 1601, 'supervisor': 2649, 'implementation': 1370, 'conversion': 657, 'banking': 301, 'compliance': 605, 'specialist': 2552, 'iv': 1486, 'mobile': 1786, 'mbu': 1692, 'developer': 792, 'support': 2655, 'channel': 486, 'consultant': 629, 'requirements': 2318, 'federal': 1065, 'integration': 1427, 'technology': 2705, 'offre': 1920, 'usa': 2843, 'technical': 2702, 'sap': 2400, 'managing': 1654, 'private': 2156, 'equity': 985, 'origination': 1969, 'las': 1552, 'vegas': 2878, 'cvd': 717, 'branch': 378, 'farmington': 1055, 'hills': 1284, 'mi': 1745, 'projects': 2186, 'cisco': 510, 'network': 1856, 'preclinical': 2134, 'imaging': 1361, 'south': 2540, 'region': 2286, 'vice': 2894, 'president': 2144, 'revenue': 2343, 'commander': 581, 'fi': 1070, 'wealth': 2944, 'advisor': 121, 'military': 1767, 'finance': 1083, 'tax': 2694, 'sbu': 2405, 'client': 528, 'operations': 1947, 'geography': 1189, 'optum': 1957, 'payer': 2022, 'usability': 2844, 'government': 1221, 'relations': 2294, 'serving': 2473, 'customer': 714, 'insights': 1409, 'professionals': 2176, 'product': 2169, 'zone': 3011, 'foodservice': 1116, 'demand': 763, 'tech': 2699, 'leads': 1569, 'design': 780, 'furby': 1161, 'research': 2320, 'biologist': 344, 'trade': 2765, 'control': 651, 'americas': 175, 'storage': 2612, 'delivery': 760, 'field': 1074, 'chief': 500, 'administration': 110, 'professional': 2175, 'services': 2472, 'engagement': 955, 'deputy': 771, 'repairs': 2307, 'supply': 2654, 'chain': 481, 'cbd': 456, 'oral': 1961, 'representative': 2311, 'strategy': 2618, 'nc': 1844, 'bid': 333, 'rs': 2371, 'alliance': 158, 'pipeline': 2079, 'analog': 182, 'mixed': 1776, 'signal': 2494, 'central': 471, 'america': 173, 'andrean': 192, 'southern': 2542, 'cone': 616, 'institute': 1417, 'scientist': 2417, 'bioinformatics': 342, 'test': 2724, 'automation': 281, 'stryker': 2627, 'rocky': 2363, 'mountain': 1807, 'content': 641, 'programming': 2182, 'lead': 1565, 'terminologist': 2720, 'computational': 610, 'linguis': 1596, 'gift': 1200, 'contract': 644, 'district': 843, 'stealth': 2600, 'pre': 2133, 'subject': 2633, 'matter': 1689, 'expert': 1031, 'communications': 593, 'informatics': 1393, 'environment': 976, 'artist': 236, 'hydraulics': 1331, 'products': 2173, 'national': 1838, 'human': 1323, 'capital': 429, 'managment': 1655, 'mapping': 1664, 'raleigh': 2252, 'durham': 885, 'assurance': 258, 'chemical': 494, 'industry': 1386, 'territory': 2722, 'retail': 2339, 'telco': 2707, 'subsea': 2635, 'da': 728, 'vinci': 2899, 'clinical': 532, 'medford': 1704, 'leader': 1566, 'fate': 1058, 'metabolism': 1727, 'regulatory': 2289, 'sciences': 2415, 'affairs': 127, 'voice': 2915, 'nurse': 1892, 'advanced': 116, 'drug': 878, 'staff': 2584, 'qe': 2234, 'ba': 294, 'resources': 2331, 'partner': 2007, 'consumer': 637, 'electronics': 928, 'budget': 400, 'creative': 690, 'coagulation': 553, 'group': 1237, 'real': 2269, 'time': 2744, 'financial': 1084, 'tennessee': 2717, 'lab': 1538, 'water': 2939, 'production': 2170, 'environmental': 977, 'international': 1445, 'application': 213, 'employee': 943, 'mid': 1756, 'level': 1582, 'wa': 2924, 'vaccount': 2862, 'nutritional': 1895, 'healthcare': 1266, 'obstetrics': 1907, 'gynecology': 1249, 'hospitalist': 1298, 'ad': 103, 'exchange': 1019, 'o365': 1903, 'process': 2162, 'bioscience': 348, 'labor': 1541, 'employment': 945, 'years': 3007, 'experience': 1028, 'required': 2317, 'bbg': 314, 'iii': 1358, 'ptd': 2213, 'point': 2105, 'nashville': 1835, 'growth': 1238, 'na': 1830, 'life': 1592, 'dental': 765, 'claims': 519, 'practice': 2132, 'represenative': 2310, 'r12': 2245, 'ooem': 1940, 'talent': 2686, 'apps': 217, 'fort': 1130, 'worth': 2987, 'bank': 299, 'anti': 201, 'money': 1800, 'laundering': 1559, 'oversight': 1989, 'accounting': 85, 'ar': 219, 'ap': 205, 'algorithms': 156, 'mgr': 1742, 'telecom': 2708, 'sris': 2572, 'structurer': 2625, 'general': 1181, 'audi': 269, 'leadership': 1568, 'organization': 1966, 'producer': 2168, 'automotive': 282, 'simplant': 2498, 'denver': 766, 'website': 2949, 'app': 209, 'interface': 1441, 'duplicate': 884, 'vp': 2919, 'qsr': 2236, 'rep': 2306, 'remote': 2304, 'intrinsiq': 1449, 'hr': 1311, 'activations': 98, 'migrations': 1766, 'oncology': 1937, 'rvp': 2380, 'finishing': 1088, 'distribution': 841, 'southeast': 2541, '01ef': 1, 'estimator': 1001, 'bzzagent': 411, 'outside': 1985, 'special': 2551, 'studies': 2628, 'office': 1918, 'kennedy': 1518, 'space': 2545, 'center': 469, 'gm': 1209, 'vans': 2869, 'patient': 2017, 'centered': 470, 'outcomes': 1980, 'geological': 1191, 'gps': 1225, 'segment': 2449, 'networking': 1857, 'operational': 1946, 'tls': 2750, 'relocation': 2301, 'available': 286, 'specialty': 2556, 'department': 767, 'vac': 2859, '401': 48, 'womenâ': 2976, 'store': 2613, 'internet': 1447, 'channels': 487, 'platform': 2097, 'psa': 2205, 'cloud': 537, 'media': 1705, 'comml': 588, 'estate': 997, 'state': 2590, 'local': 1609, 'direct': 814, 'respiratory': 2333, 'diagnostics': 803, 'brand': 379, 'organizational': 1967, 'dir': 813, 'liquid': 1600, 'chromatography': 504, 'separations': 2465, 'ediscovery': 909, 'solution': 2532, 'devcentral': 790, 'building': 404, 'tss': 2809, 'relationship': 2295, 'auditor': 274, 'constellation': 625, 'market': 1671, 'portfolio': 2117, 'pharmacist': 2056, 'credit': 691, 'online': 1938, 'glossybox': 1207, 'worldwide': 2986, 'gl': 1203, 'consolidations': 624, 'privacy': 2155, 'data': 736, 'counsel': 675, 'maintenance': 1642, 'sharepoint': 2483, 'output': 1984, 'console': 623, 'bpm': 375, 'search': 2432, 'master': 1680, 'scheduler': 2409, 'orleans': 1974, 'kycs': 1536, 'intel': 1431, 'san': 2397, 'francisco': 1141, 'publications': 2217, 'svp': 2667, 'ops': 1953, 'seo': 2463, 'ecg': 897, 'emerging': 941, 'markets': 1675, 'path': 2015, 'asset': 249, 'bu': 398, 'disaster': 826, 'fundraising': 1159, 'stores': 2614, 'california': 417, 'pm': 2102, 'mm': 1781, 'tag': 2685, 'heuer': 1276, 'springfield': 2565, 'nj': 1875, 'defense': 758, 'programs': 2183, 'political': 2108, 'gamification': 1170, 'hpi': 1308, 'testing': 2726, 'mining': 1768, '2d': 39, 'plant': 2094, 'retention': 2340, 'wholesale': 2961, 'saks': 2388, 'bergdorf': 329, 'goodman': 1215, 'nyc': 1901, 'carolinas': 443, 'salesforce': 2391, 'site': 2504, 'monitoring': 1802, 'cra': 687, 'standards': 2587, 'accreditation': 87, 'irvine': 1472, 'provider': 2200, 'minneapolis': 1769, 'mn': 1782, 'evaluation': 1011, 'net': 1854, 'news': 1867, 'licensing': 1591, 'ultrasound': 2824, 'construction': 627, 'innovation': 1406, 'pet': 2049, 'visual': 2910, 'merchandising': 1719, 'energy': 952, 'area': 228, 'contracts': 648, 'facilities': 1041, 'php': 2067, 'automtive': 283, 'android': 193, 'schinnerer': 2410, 'eastern': 894, 'cvs': 720, 'loan': 1608, 'gui': 1242, 'tier': 2743, 'physician': 2071, 'st': 2580, 'clairsville': 520, 'oh': 1923, 'ios': 1460, 'sourcing': 2539, 'health': 1265, 'benefit': 325, '3m': 45, 'northeast': 1881, 'demo': 764, 'nursing': 1893, 'metrosouth': 1738, 'medical': 1706, 'blue': 361, 'island': 1475, 'il': 1359, 'transactions': 2777, 'eva': 1010, 'cellular': 466, 'commodity': 590, 'drilling': 873, 'investment': 1456, 'series': 2468, '66': 63, 'architecture': 226, 'unit': 2831, 'air': 146, 'force': 1119, 'dc': 747, 'srd': 2571, 'division': 848, 'director_': 819, 'distinguished': 839, 'cgsi': 480, 'category': 454, 'silicones': 2497, 'humanitarian': 1325, 'university': 2835, 'workday': 2978, 'hris': 1312, 'tubing': 2810, 'anchorage': 189, 'ak': 150, 'acquisition': 92, 'associates': 254, 'boston': 372, 'ddr': 751, 'verification': 2886, 'chicago': 499, 'station': 2595, 'corn': 666, 'breeder': 383, 'seeds': 2446, 'traits': 2773, 'enrollment': 969, 'newsgathering': 1868, 'developmental': 795, 'alphera': 165, 'fs': 1147, 'welding': 2952, 'underwriting': 2829, 'equipment': 984, 'purchasing': 2225, 'wireless': 2970, 'pursuit': 2229, 'server': 2470, 'messaging': 1724, 'cyber': 722, 'clin': 530, 'information': 1395, 'governance': 1219, 'infosec': 1396, 'hp': 1306, 'arcsight': 227, 'crimson': 693, 'attachmate': 266, 'atlantic': 265, 'sgla': 2478, 'advisory': 122, 'middleware': 1759, 'mdm': 1696, 'administrator': 112, 'banks': 303, 'best': 330, 'buy': 408, 'kmart': 1527, 'bids': 334, 'proposals': 2191, 'advertising': 119, 'com': 577, 'carolina': 442, 'philly': 2065, 'atlanta': 264, 'tibco': 2741, 'long': 1620, 'ny': 1900, 'euc': 1007, '3rd': 47, '5th': 61, 'year': 3006, 'icd': 1346, '10': 10, 'telecommute': 2710, 'crime': 692, 'mobility': 1787, 'pmo': 2104, 'initiatives': 1402, 'pricing': 2148, 'sw': 2668, 'os': 1976, 'hw': 1327, 'fwd': 1164, 'abstractions': 76, 'civil': 515, 'fresno': 1145, 'ca': 413, 'cftc': 479, 'agrofresh': 142, 'piping': 2080, 'wan': 2930, 'income': 1376, 'workforce': 2980, 'supplier': 2652, 'facilties': 1043, 'buck': 399, 'rn': 2360, 'beers': 320, 'ae': 124, 'neurosurgeon': 1863, 'collaboration': 567, 'serdes': 2467, 'execution': 1022, 'falcon': 1049, 'accelerator': 78, 'lebanon': 1574, 'jersey': 1501, 'occupational': 1910, 'therapist': 2734, 'trainer': 2770, 'house': 1303, 'enhancement': 966, 'aviation': 288, 'sound': 2536, 'insurance': 1424, 'boiler': 366, 'great': 1232, 'lakes': 1546, 'ecommerce': 901, 'youtube': 3010, 'houston': 1305, 'user': 2848, 'designer': 782, 'satcom': 2402, 'reporting': 2308, 'release': 2297, 'foundation': 1134, 'erp': 988, 'defined': 759, 'contribution': 650, 'participant': 2006, 'coordinator': 661, 'p5': 1993, 'treas': 2792, 'locomotive': 1615, 'foreman': 1123, 'additive': 104, 'higher': 1282, 'education': 913, 'end': 947, 'materials': 1685, 'corrosion': 671, 'family': 1050, 'shared': 2481, 'scotchâ': 2420, 'playstation': 2100, 'river': 2354, 'vicksburg': 2895, 'ms': 1814, 'appstore': 218, 'targeted': 2692, 'career': 439, 'changer': 484, 'overland': 1987, 'park': 2005, 'logistics': 1618, 'retirement': 2342, 'partners': 2008, 'ipd': 1464, 'integrated': 1426, 'plan': 2087, 'franchise': 1140, 'java': 1496, 'soa': 2522, 'transit': 2781, 'proposed': 2192, 'engine': 956, 'audit': 272, 'hosting': 1299, 'risk': 2353, 'consumables': 636, 'ed': 905, 'briefing': 385, 'capture': 432, 'strategist': 2617, 'waste': 2937, 'music': 1826, 'firmware': 1092, 'salon': 2393, 'columbus': 576, 'pharmaceutical': 2055, 'resource': 2330, 'mobilization': 1788, 'section': 2439, 'sec': 2435, 'sensors': 2462, 'taxation': 2695, 'gynecologic': 1247, 'oncologists': 1936, 'tn': 2754, 'az': 291, 'food': 1115, 'biology': 345, 'patents': 2014, 'devops': 800, 'aftermarket': 132, 'partnerships': 2010, 'advocate': 123, 'embedded': 935, 'processor': 2164, 'validation': 2863, 'ig': 1355, 'mbe': 1691, 'superconductors': 2645, 'semiconductors': 2457, 'rel': 2292, 'crm': 695, 'operating': 1944, 'jackson': 1490, 'purchase': 2224, 'radiological': 2248, 'rsl': 2374, 'seel': 2448, 'social': 2524, 'junior': 1510, 'component': 606, 'instant': 1416, 'issuance': 1479, 'b2b': 292, 'siri': 2503, 'database': 737, 'semi': 2455, 'conductor': 615, 'engineermobile': 961, 'prof': 2174, 'supervisory': 2650, 'planner': 2089, '4th': 57, '6th': 64, 'records': 2275, 'compound': 608, 'property': 2189, 'recruiting': 2278, 'web': 2946, 'peopleanswers': 2041, 'hcm': 1261, 'gms': 1210, 'compensation': 598, 'peoplesoft': 2042, 'crs': 699, 'diversified': 846, 'case': 448, 'textron': 2728, 'colombia': 573, 'neurology': 1860, 'oem': 1914, 'flow': 1106, 'louis': 1623, '14': 21, '0442': 3, 'investor': 1458, 'newco': 1866, 'internal': 1444, 'wholesaler': 2962, 'nsd': 1888, 'hi': 1280, 'accessories': 82, 'alm': 163, 'modeling': 1791, 'unified': 2830, 'colaboration': 565, 'model': 1790, 'gra': 1226, 'rope': 2366, 'assembly': 247, 'quantum': 2242, 'superconducting': 2644, 'experimentalist': 1030, 'dispute': 838, 'gs': 1239, '2210': 35, 'census': 467, 'dp': 870, 'fiber': 1071, 'tustin': 2818, 'riverside': 2355, 'cerritos': 475, 'payroll': 2026, 'teradata': 2718, 'biostatistics': 351, 'actuary': 102, 'optical': 1954, 'public': 2215, 'policy': 2107, 'receivable': 2273, 'netiq': 1855, 'securities': 2442, 'class': 521, 'actions': 96, 'gis': 1202, 'mts': 1818, 'based': 307, 'rnd': 2361, 'mold': 1795, 'success': 2639, 'outsourcing': 1986, 'digitial': 810, 'reg': 2285, 'payable': 2021, 'managerï': 1653, 'abc': 73, 'named': 1832, 'giraph': 1201, 'port': 2116, 'transactional': 2776, 'oak': 1905, 'brook': 391, 'datacenter': 738, 'pcb': 2028, 'spend': 2559, 'gwo': 1246, 'gom': 1214, 'controller': 652, 'art': 235, 'agency': 134, 'ia': 1337, 'sector': 2440, 'configurability': 619, 'electric': 925, 'imusa': 1373, 'los': 1621, 'angeles': 195, 'games': 1169, 'secretariat': 2437, 'walmart': 2929, 'ehs': 921, 'auditing': 273, 'midatlantic': 1757, 'networks': 1858, 'japanese': 1495, 'language': 1550, 'skills': 2506, 'high': 1281, 'ocular': 1913, 'assistant': 251, 'treasury': 2794, 'ipp': 1466, 'ball': 297, 'valves': 2868, 'recovery': 2276, 'collection': 570, 'bankruptcy': 302, 'pa': 1994, 'indianapolis': 1381, 'wcs': 2942, 'yahoo': 3005, 'dev': 789, 'eng': 954, 'incubation': 1377, 'genlst': 1186, 'sms': 2517, 'est': 996, 'nvm': 1898, 'meteorologist': 1731, '1340': 19, 'facilitated': 1040, 'power': 2122, 'zynga': 3015, 'org': 1964, 'supervising': 2647, 'deviation': 796, 'investigation': 1453, 'paralegal': 2003, 'pmal': 2103, 'american': 174, 'vaccines': 2861, 'hiv': 1288, 'sti': 2608, 'vh': 2892, 'treatment': 2795, 'ipt': 1467, 'diabetes': 802, 'funding': 1158, 'transplants': 2786, 'executiveâ': 1024, 'thought': 2738, 'static': 2594, 'intellectual': 1432, 'continuous': 643, 'improvement': 1371, 'oilfield': 1927, 'fluids': 1110, 'foster': 1133, 'childers': 501, 'pro': 2158, 'intelligence': 1433, 'domain': 866, 'vs': 2922, 'ibd': 1340, 'financials': 1085, 'noc': 1877, 'dbs': 746, 'k2': 1512, 'snowboards': 2520, 'sfdc': 2477, 'evp': 1014, 'industries': 1385, 'legal': 1577, 'agile': 137, 'scrum': 2423, 'utc': 2853, 'sysanalysis': 2679, 'subcontracts': 2632, 'kerastase': 1520, 'big': 335, 'auburn': 268, 'sustainable': 2664, 'buildings': 405, 'mechanical': 1701, 'apparel': 210, 'adidas': 107, 'companion': 596, 'animal': 197, 'efficacy': 920, 'response': 2334, 'albany': 153, 'kusa': 1534, 'nutrition': 1894, 'peripheral': 2046, 'vascular': 2872, 'studio': 2629, 'reservoir': 2323, 'mst': 1816, 'promotion': 2187, 'openlink': 1943, 'hardware': 1255, 'device': 797, 'espe': 994, 'okc': 1930, 'procurement': 2165, 'framework': 1138, 'electrical': 926, 'superintendent': 2646, 'ft': 1150, 'molecular': 1798, 'genetics': 1184, 'prosecution': 2195, 'counseling': 676, 'celine': 463, 'bay': 311, 'bi': 332, 'carrier': 445, 'sas': 2401, 'sse': 2576, 'tv': 2819, 'devices': 798, 'licensed': 1590, 'remediation': 2303, 'lsrp': 1630, 'foot': 1117, 'locker': 1614, 'valuation': 2865, 'workplace': 2981, 'cleveland': 527, 'negotiator': 1851, 'municipex': 1825, 'vet': 2890, 'lexia': 1583, 'pra': 2131, 'exec': 1021, 'med': 1703, 'gpal': 1223, 'smb': 2514, 'liability': 1585, 'psychiatrist': 2210, 'mhc': 1744, 'contact': 639, 'corporation': 670, 'collaborations': 568, 'coast': 554, 'coml': 580, 'arbitration': 220, 'washington': 2935, 'institutional': 1418, '2nd': 40, 'shift': 2485, 'fund': 1157, 'near': 1849, 'enablement': 946, 'consult': 628, 'hvac': 1326, 'bge': 331, 'home': 1291, 'machine': 1633, 'learning': 1571, 'reliability': 2299, 'ui': 2822, 'guy': 1245, 'carpenter': 444, 'microsoft': 1754, 'dell': 761, 'dod': 860, 'navy': 1843, 'marines': 1670, 'usaf': 2845, 'emergency': 940, 'preparedness': 2141, 'relief': 2300, 'ped': 2035, 'infotainment': 1397, 'hbo': 1259, 'interaction': 1436, 'multicultural': 1820, 'geology': 1193, 'optimization': 1956, 'warranty': 2934, 'depot': 770, 'bsa': 394, 'existing': 1025, 'installation': 1413, 'baltimore': 298, 'room': 2365, 'target': 2691, 'gas': 1173, 'coo': 658, 'georgia': 1196, 'ctr': 710, 'statesboro': 2593, 'ga': 1167, '2102': 34, 'united': 2832, 'states': 2592, 'insourced': 1411, 'chemicals': 495, 'alliances': 159, 'huffpost': 1322, 'northwest': 1884, 'hcit': 1260, 'star': 2589, 'allocation': 162, 'capability': 427, 'job': 1504, 'hse': 1316, 'units': 2834, 'grade': 1227, 'municipal': 1824, 'wisconsin': 2972, 'illinois': 1360, 'automated': 279, 'middle': 1758, 'westchester': 2956, 'stamford': 2585, 'ct': 706, 'marine': 1669, 'csc': 701, 'hospital': 1297, 'vehicle': 2879, 'cryptologic': 700, 'video': 2896, 'extract': 1034, 'transform': 2779, 'load': 1607, 'etl': 1005, 'ptg': 2214, 'predictive': 2135, 'post': 2120, 'qc': 2233, 'biochemistry': 341, 'thoracic': 2737, 'skyfence': 2508, 'texas': 2727, 'louisiana': 1624, 'divisional': 849, 'coe': 562, 'wayne': 2940, 'methodist': 1734, 'seeks': 2447, 'epilepsy': 981, 'spine': 2560, 'managed': 1648, 'detroit': 787, 'cme': 542, 'sigint': 2493, 'nci': 1846, 'industrial': 1384, 'fab': 1037, 'kam': 1513, 'cattle': 455, 'feedlot': 1066, 'restore': 2336, 'molded': 1796, 'shapes': 2479, 'recognition': 2274, 'discipline': 827, 'exploration': 1032, 'offshore': 1921, 'ts': 2808, 'sci': 2413, 'ic': 1344, 'dte': 883, 'parts': 2011, 'therapeutic': 2733, 'hcv': 1262, 'umpqua': 2826, 'investments': 1457, 'seattle': 2433, 'conditioning': 614, 'supv': 2657, 'codman': 561, 'neuro': 1859, 'desktop': 784, 'tools': 2759, 'underwriter': 2828, 'providers': 2201, 'billing': 338, 'afs': 131, 'vector': 2876, 'malaria': 1645, 'conservation': 622, 'line': 1595, 'antonio': 203, 'lal': 1547, 'endotoxin': 951, 'turbine': 2814, 'upgrades': 2837, 'transmission': 2784, 'driveline': 875, 'steam': 2601, 'turbines': 2815, 'escalations': 991, 'men': 1712, 'ralph': 2253, 'lauren': 1560, 'king': 1525, 'prussia': 2203, 'distributor': 842, 'jee': 1500, 'distributed': 840, 'material': 1684, 'perioperative': 2045, 'xively': 2998, 'iot': 1461, 'polo': 2110, 'factory': 1044, 'country': 679, 'cedar': 462, 'rapids': 2257, 'entertainment': 974, 'separation': 2464, 'detection': 786, 'accountant': 84, 'rbha': 2264, 'children': 502, 'sys': 2678, 'admin': 109, 'located': 1611, 'corp': 668, 'relationships': 2296, 'charlotte': 491, 'smts': 2518, 'chatter': 493, 'lighting': 1594, 'southwest': 2543, 'unix': 2836, 'driver': 876, 'procedures': 2161, 'tms': 2752, 'migration': 1765, 'change': 483, 'gsoc': 1240, 'gro': 1236, 'statistical': 2596, 'order': 1963, 'suite': 2642, 'procurian': 2166, 'govt': 1222, 'apac': 206, 'generation': 1183, 'soft': 2526, 'mack': 1637, 'trucks': 2805, 'latin': 1556, 'transaction': 2775, 'consumption': 638, 'sde': 2425, 'functional': 1155, 'gpo': 1224, 'la': 1537, 'palma': 2001, 'mckinsey': 1694, 'periscope': 2047, 'assortment': 256, 'infra': 1398, 'sdn': 2429, '300': 41, 'monroe': 1803, 'utilities': 2854, 'richmond': 2349, 'virginia': 2902, 'beach': 318, 'wastewater': 2938, 'aclu': 91, 'diego': 806, 'imperial': 1368, 'counties': 678, 'closetmaid': 536, 'cardiology': 435, 'forecaster': 1121, 'solidworks': 2531, 'simulation': 2500, 'bend': 323, 'matco': 1682, 'world': 2985, 'summit': 2643, 'princess': 2151, 'fairies': 1048, 'transportation': 2788, '2101': 33, '13': 16, 'mfg': 1740, 'salt': 2394, 'lake': 1544, 'city': 514, 'boise': 367, 'idaho': 1350, 'northern': 1882, 'hub': 1320, 'nfl': 1870, 'afl': 129, 'game': 1168, 'day': 740, 'location': 1612, 'microbiologist': 1751, 'abd': 74, 'aulani': 275, 'ewm': 1016, 'ram': 2254, 'tegra': 2706, 'community': 595, 'member': 1710, 'metals': 1730, 'core': 665, 'frameworks': 1139, 'surgical': 2660, 'workplaces': 2982, 'cincinnati': 507, 'hemophilia': 1274, 'pharmacovigilance': 2059, 'morningstar': 1805, 'midstream': 1762, 'used': 2847, 'jcfs': 1499, 'premium': 2138, 'angio': 196, 'specialists': 2553, 'configuration': 620, 'cyberknife': 723, 'idn': 1354, 'vm': 2912, 'clerk': 526, 'court': 681, 'kic': 1524, 'school': 2411, 'flavorist': 1098, 'doc': 855, 'ticketing': 2742, 'html5': 1318, 'javascript': 1497, 'work': 2977, 'england': 963, 'var': 2870, 'isv': 1481, 'si': 2491, 'madison': 1638, 'collegeville': 572, 'rental': 2305, 'remarketing': 2302, 'incentive': 1374, 'documentation': 858, 'sparc': 2546, 'fmsa': 1113, 'external': 1033, 'contractor': 646, 'caribbean': 441, 'asic': 243, 'lakeland': 1545, 'transformation': 2780, 'dispersants': 835, 'ambulatory': 172, 'surgery': 2659, 'mkts': 1778, 'itunes': 1485, 'tradebook': 2766, 'broker': 388, 'dealer': 753, 'ux': 2857, 'mcap': 1693, 'shg': 2484, 'schwab': 2412, 'comprehensive': 609, 'magna': 1639, 'commodities': 589, 'airport': 149, 'hematology': 1273, 'jacksonville': 1491, 'miami': 1746, 'formulations': 1129, 'diamond': 804, 'fmo': 1112, 'vertical': 2888, 'rich': 2348, 'patent': 2013, 'ee': 915, 'lean': 1570, 'fac': 1039, 'inv': 1451, 'decommissioning': 757, 'uso': 2850, 'vaccine': 2860, 'emi': 942, 'emc': 937, 'wso': 2990, 'pp': 2124, 'sop': 2535, 'indirect': 1382, 'translational': 2783, 'medicine': 1708, 'tissue': 2747, 'assay': 246, 'trial': 2799, 'gred': 1233, 'origins': 1972, 'ojon': 1928, 'campaign': 420, 'bd': 317, 'germany': 1198, 'desclassification': 778, 'bph': 374, 'philips': 2064, 'end2end': 948, 'inventory': 1452, 'women': 2974, 'old': 1932, 'emen109892': 939, 'programmer': 2181, 'rapid': 2256, 'sync': 2673, 'packaging': 1997, 'antitrust': 202, 'nw': 1899, 'radio': 2247, 'frequency': 1144, 'rf': 2345, 'structural': 2622, 'bridge': 384, 'eac': 889, 'campus': 423, 'ohio': 1924, 'firewall': 1090, 'uisol': 2823, 'diem': 807, 'varies': 2871, 'directorâ': 822, 'lender': 1580, 'opex': 1949, 'avp': 289, 'dms': 854, 'sem': 2454, 'trader': 2767, 'fraud': 1143, 'sponsorship': 2561, 'venue': 2885, '440611': 53, 'knee': 1528, 'creations': 689, 'permitting': 2048, 'vendor': 2881, 'pr': 2130, 'socal': 2523, 'arizona': 231, 'psychologist': 2212, 'transition': 2782, 'anager': 181, 'ata': 260, 'enter': 971, 'pplications': 2125, 'description': 779, 'funds': 1160, 'analytic': 185, 'constr': 626, 'formation': 1126, 'sf': 2476, 'pi': 2075, 'advice': 120, 'bus': 406, 'strat': 2615, 'develop': 791, 'florida': 1105, 'steelton': 2602, 'telford': 2716, 'agriedge': 140, 'cmf': 543, 'transversal': 2789, 'review': 2344, 'washroom': 2936, 'warehouse': 2931, 'cnslt': 550, 'midrange': 1761, 'oicg': 1925, 'princ': 2150, 'aol': 204, 'cyberspace': 725, 'directorate': 820, 'gcp': 1175, 'glp': 1208, 'ims': 1372, 'sdm': 2428, 'deployment': 768, 'geoint': 1190, 'isr': 1478, 'skype': 2509, 'doe': 862, 'linux': 1597, 'kernel': 1521, 'virtualization': 2905, 'mortgage': 1806, 'mexico': 1739, 'andean': 190, 'experienced': 1029, 'buyer': 409, 'charging': 490, 'operation': 1945, 'iag': 1338, 'fixed': 1095, 'rbc': 2263, 'sterling': 2604, 'va': 2858, 'computer': 611, 'vision': 2907, 'realization': 2270, 'wec': 2951, 'components': 607, 'multi': 1819, 'evs': 1015, 'mercy': 1721, 'presales': 2142, 'cfo': 477, 'dermatology': 777, 'dermatologist': 776, 'geo': 1188, 'index': 1379, 'stock': 2609, 'derivatives': 774, 'trading': 2768, 'basis': 308, 'calirfornia': 418, 'partnership': 2009, 'radiology': 2249, 'clinicl': 535, 'menlo': 1713, 'mal': 1644, 'imc': 1362, 'incident': 1375, 'utility': 2855, 'bb': 313, 'transact': 2774, 'pressure': 2145, 'pumping': 2222, 'technologies': 2704, 'integrity': 1430, 'ups': 2839, 'london': 1619, 'trend': 2796, 'spotting': 2564, 'build': 403, 'generalist': 1182, 'iso': 1476, 'guides': 1243, 'digtial': 811, 'expense': 1026, 'tfs000yq': 2729, 'rotating': 2368, 'esmeraldas': 993, 'fabrication': 1038, 'logic': 1616, 'lsb': 1628, 'integrators': 1429, 'banker': 300, 'mlo': 1780, 'voip': 2916, 'late': 1555, 'phase': 2061, 'workshop': 2984, 'assoc': 252, 'residential': 2326, 'travelocity': 2791, 'envelope': 975, 'analyzer': 188, 'floral': 1104, 'ethics': 1004, 'protection': 2197, 'oil': 1926, 'marketer': 1672, 'aggregation': 136, 'availability': 285, 'planning_controlling': 2091, 'overview': 1990, 'careers': 440, 'rare': 2258, 'disease': 830, 'eu': 1006, 'payment': 2024, 'disclosures': 828, 'branded': 380, 'settlemet': 2475, 'mrkt': 1811, 'pecoe': 2034, 'ash': 240, 'event': 1012, 'truck': 2804, 'polyurethane': 2112, 'heavy': 1268, 'transnuclear': 2785, 'governing': 1220, 'bodies': 364, 'enovia': 968, 'enforcement': 953, 'maplewood': 1663, 'concerts': 613, 'mng': 1783, 'ssm': 2579, 'austin': 277, 'masterpass': 1681, 'wallet': 2928, 'hro': 1314, 'lipotec': 1598, 'active': 99, 'organics': 1965, 'wwops': 2993, 'cm': 540, 'seller': 2453, 'doer': 863, 'ww': 2992, 'orthopedics': 1975, 'acs': 95, 'transfer': 2778, 'physicist': 2073, 'urology': 2841, 'gov': 1218, 'essbase': 995, 'comark': 578, 'librarian': 1587, 'collections': 571, 'diligence': 812, 'fdd': 1062, 'iraq': 1469, 'jordan': 1506, 'specialized': 2554, 'stratey_mas': 2619, 'guarantee': 1241, 'facility': 1042, 'nsg': 1889, 'syndicated': 2674, 'cdm': 459, 'fly': 1111, 'bloomington': 360, 'terracotta': 2721, 'bigmemory': 336, 'b2c': 293, 'hadoop': 1253, 'visceral': 2906, 'optumrx': 1959, 'cvrc': 719, 'intensivist': 1435, '18': 27, 'bed': 319, 'icu': 1348, 'ideation': 1351, 'stb': 2599, 'completions': 603, 'small': 2512, 'solid': 2530, 'drive': 874, 'cover': 682, 'dressing': 872, 'pv': 2230, 'aggregate': 135, 'processing': 2163, 'hs': 1315, 'huddle': 1321, 'communicaitons': 591, 'proposal': 2190, 'coronary': 667, 'survey': 2662, 'sampling': 2396, 'copyright': 663, 'open': 1941, 'source': 2537, 'document': 857, 'phys': 2069, 'semiconductor': 2456, 'integrator': 1428, 'rm': 2358, 'profit': 2177, 'gnp': 1211, 'title': 2748, 'commensurate': 582, 'pd': 2031, 'inpatient': 1407, 'economics': 902, 'value': 2867, 'appeals': 211, 'resolutions': 2329, 'dba': 744, 'mongodb': 1801, 'sme': 2515, 'purity': 2227, 'purification': 2226, 'randolph': 2255, 'ma': 1632, 'rate': 2260, 'fossil': 1132, 'datamonitor': 739, 'hrit': 1313, 'medicare': 1707, 'issues': 1480, 'cellestis': 465, 'cc': 457, 'occasional': 1909, 'use': 2846, 'mds': 1697, 'coach': 552, 'farmer': 1054, 'itsc': 1484, 'bcm': 316, 'ky': 1535, 'communication': 592, 'manhattan': 1659, 'bronx': 390, 'ate': 261, 'white': 2960, 'marsh': 1678, 'md': 1695, 'ssc': 2574, 'virtual': 2904, 'machines': 1635, 'qualcomm': 2238, 'silicon': 2496, 'valley': 2864, 'nickelodeon': 1874, 'animation': 198, 'psegli': 2206, 'access': 81, 'lawyer': 1562, 'clinician': 534, 'ge': 1178, 'fairchild': 1047, 'filtration': 1080, 'albuquerque': 154, 'nm': 1876, 'adms': 113, 'hydronics': 1334, 'hfp': 1278, 'estimation': 1000, 'civilian': 516, 'g4': 1166, 'minnesota': 1770, 'bendix': 324, 'substation': 2637, 'fao': 1051, 'desk': 783, 'cable': 414, 'wholsle': 2963, 'fl': 1096, 'iptv': 1468, 'wm': 2973, 'contractual': 649, 'ito': 1483, 'phoenix': 2066, 'endoscopy': 949, 'rat': 2259, 'warehousing': 2932, 'identity': 1353, 'brooklyn': 392, 'staten': 2591, 'map': 1662, 'display': 836, 'sustainment': 2665, 'rochester': 2362, 'elizabeth': 931, 'multimedia': 1822, 'claim': 518, 'productivity': 2171, 'chartis': 492, 'fcc': 1060, 'manegement': 1657, 'omni': 1934, 'math': 1686, 'science': 2414, 'athero': 263, 'discovery': 829, 'coastal': 555, 'plano': 2092, 'opm': 1951, 'pelvic': 2037, 'floor': 1103, '434536': 51, 'fp': 1135, 'bs': 393, 'dmos': 853, 'monetization': 1799, 'asp': 244, 'mvc': 1828, 'curriculum': 712, 'running': 2378, 'codes': 559, 'assessment': 248, 'req': 2315, '1384': 20, 'matlab': 1688, 'fuji': 1152, 'triconex': 2801, 'biot': 353, 'marc': 1665, 'contractors': 647, 'mergers': 1722, 'acquisitions': 93, '2009': 30, '2011': 31, 'graphics': 1230, 'conultant': 654, 'reston': 2335, 'hpr': 1309, 'works': 2983, 'pdrd': 2033, 'cognos': 563, 'principle': 2153, 'stacks': 2583, 'jbs': 1498, 'aargm': 72, 'dot': 868, 'veeva': 2877, 'directorï¼œtransaction': 823, 'befg': 321, 'acct': 88, 'mercedes': 1717, 'benz': 328, 'driving': 877, 'academy': 77, 'mep': 1716, 'cv': 716, 'xr': 3000, 'cpo': 685, 'additives': 105, 'bpqm': 376, 'ibu': 1343, 'ra': 2246, 'doi': 864, 'protein': 2198, 'analytical': 186, 'ibg': 1342, 'dcim': 749, 'refining': 2283, 'icac': 1345, 'resales': 2319, 'dca': 748, 'ho': 1290, 'missouri': 1774, 'accertify': 80, 'interactive': 1437, 'trusts': 2807, 'estates': 998, 'preservation': 2143, 'kansas': 1514, 'cycle': 726, 'sports': 2563, 'cno': 548, 'stonecrest': 2611, 'smyrna': 2519, 'cns': 549, 'wellness': 2953, 'cost': 673, 'activity': 100, 'programme': 2180, 'tl': 2749, 'ford': 1120, 'shopper': 2488, 'xd': 2997, 'citeline': 511, 'srm': 2573, 'mri': 1810, 'managerâ': 1652, 'battery': 310, '4949': 56, 'grc': 1231, 'trillium': 2802, 'scale': 2407, 'gap': 1171, 'tpa': 2763, 'specification': 2557, 'debt': 755, 'module': 1793, '0762': 8, 'actuarial': 101, 'oliver': 1933, 'wyman': 2995, 'agencies': 133, 'ceo': 474, 'poplar': 2114, 'springs': 2566, 'tm': 2751, 'epidemiology': 980, 'epocrates': 982, 'geophysical': 1194, 'optuminsight': 1958, 'branding': 381, 'daily': 730, 'tapper': 2689, 'kroger': 1532, 'capacity': 428, 'e4': 888, 'german': 1197, 'steuerberater': 2605, 'wirtschaftsprã¼fer': 2971, 'franciso': 1142, 'genomics': 1187, 'single': 2501, 'biotech': 354, 'hydratight': 1329, 'tri': 2798, 'centrifuge': 473, 'successfactors': 2640, 'license': 1589, 'walgreens': 2926, 'inspector': 1412, 'car': 433, 'michigan': 1747, 'indiana': 1380, 'reference': 2282, 'traffic': 2769, 'pharma': 2054, 'dbm': 745, 'philadelphia': 2063, 'mdu': 1698, 'mail': 1640, 'babies': 295, 'transport': 2787, 'columbia': 575, 'sc': 2406, 'hydraulic': 1330, 'applied': 215, 'mechanics': 1702, 'stack': 2582, 'onshore': 1939, 'marcellus': 1666, 'club': 538, 'cobra': 557, 'puma': 2220, 'golf': 1213, 'behavioral': 322, 'adult': 114, 'outpatient': 1983, 'allied': 161, 'dean': 754, 'sqa': 2567, 'cib': 505, 'geneva': 1185, 'pemco': 2038, 'ssg': 2577, 'reinsurance': 2291, 'hotel': 1301, 'booking': 369, 'midlevel': 1760, 'mix': 1775, 'optics': 1955, 'plants': 2095, 'computing': 612, 'vignette': 2897, 'serv': 2469, 'polk': 2109, 'county': 680, 'telephony': 2714, 'trust': 2806, 'conflicts': 621, 'menswear': 1714, 'luxury': 1631, 'labels': 1540, 'europe': 1008, 'bt': 396, 'polymers': 2111, '437445': 52, 'violence': 2900, 'vaw': 2873, 'advertisement': 118, 'nationwide': 1839, 'opportunities': 1952, 'individual': 1383, '11': 11, '60': 62, 'uvp': 2856, 'conferences': 617, 'reimbursement': 2290, 'nd': 1847, 'sd': 2424, 'ne': 1848, 'ks': 1533, 'mo': 1785, 'wi': 2964, 'email': 934, 'sustainability': 2663, 'allianz': 160, 'relevance': 2298, 'trenton': 2797, 'ocean': 1911, 'coordiantor': 660, 'lending': 1581, 'pharmacy': 2060, 'travel': 2790, 'gear': 1179, 'vrsco': 2921, 'bpc': 373, 'vodafone': 2914, 'ofa': 1916, 'swine': 2670, 'upper': 2838, 'clinic': 531, 'toledo': 2755, 'bentonville': 327, 'inland': 1405, 'kosse': 1530, 'horizontal': 1294, 'cell': 464, 'culture': 711, 'mammalian': 1646, 'whippany': 2959, 'http': 1319, 'footwear': 1118, 'derivative': 773, 'endotek': 950, 'sony': 2534, 'dadc': 729, 'rrc': 2370, 'metrics': 1736, 'sdet': 2426, 'daps': 735, 'fragrance': 1137, 'cosmetic': 672, 'cancer': 425, 'immunology': 1366, 'researcher': 2321, 'shareholder': 2482, 'cvt': 721, 'escapes': 992, 'instrument': 1421, 'ah': 143, '1308': 17, 'h2o2': 1250, 'thiochemicals': 2736, 'chemist': 496, 'rd': 2265, 'terex': 2719, 'classification': 522, 'internationalization': 1446, 'biometrician': 346, 'fortune': 1131, '500': 58, 'company': 597, 'finalta': 1082, 'certified': 476, 'filenet': 1078, 'stf': 2607, 'tunnel': 2813, 'ventilation': 2882, 'directional': 817, 'ct9061': 707, 'lan': 1548, 'upstream': 2840, 'adjustment': 108, 'forecasting': 1122, 'european': 1009, 'displays': 837, 'fte': 1151, 'role': 2364, 'metro': 1737, 'vip': 2901, 'nation': 1837, 'grm': 1235, 'ce': 460, 'orlando': 1973, 'structure': 2623, 'northfield': 1883, 'biosense': 349, 'webster': 2950, 'nv': 1896, 'dsd': 880, 'price': 2147, 'outbound': 1979, 'scientific': 2416, 'places': 2085, 'highway': 1283, 'buffalo': 402, 'promotions': 2188, 'backend': 296, 'cad': 415, 'google': 1217, 'package': 1996, 'writer': 2988, 'subsurface': 2638, '72': 67, 'iowa': 1462, 'solar': 2529, 'mailing': 1641, 'syracuse': 2676, 'formulary': 1128, 'people': 2040, 'instrumentation': 1422, 'divestitures': 847, 'fw': 1163, 'pop': 2113, 'formats': 1127, 'firewalls': 1091, 'kenan': 1516, 'turnkey': 2817, 'ha': 1251, 'statistician': 2597, '395010': 44, 'party': 2012, 'installed': 1415, 'base': 306, 'syteline': 2682, 'ln': 1605, 'ng': 1872, 'effectivenes': 918, 'printing': 2154, 'ppse': 2127, 'premise': 2136, 'books': 370, 'machining': 1636, 'platts': 2099, 'spec': 2550, 'api': 208, 'conventional': 655, 'histology': 1286, 'citigold': 512, 'neck': 1850, 'ams': 179, 'plans': 2093, 'csv': 705, 'mathematician': 1687, 'occ': 1908, 'fellowship': 1069, 'secure': 2441, 'id': 1349, 'leaders': 1567, 'cardiovascular': 436, 'meta': 1725, 'disability': 825, 'resident': 2325, 'rdo': 2267, 'functions': 1156, 'manage': 1647, 'walk': 2927, 'prepaid': 2139, 'commerce': 583, 'topsides': 2760, 'quidsi': 2244, 'amazon': 170, 'subsidiary': 2636, 'tool': 2757, 'chargeback': 489, 'dx': 886, 'joint': 1505, 'ventures': 2884, '702348': 65, 'sal01201': 2389, 'eagle': 890, 'tracking': 2764, 'code': 558, 'k12': 1511, '911': 71, 'secretary': 2438, 'alternative': 168, 'tester': 2725, 'irna': 1470, 'nepool': 1853, 'aerospace': 125, 'amrd340': 178, 'gcpl': 1176, 'antenna': 200, 'windows': 2968, 'engineers': 962, 'ashland': 241, 'ingredients': 1400, 'boca': 363, 'raton': 2261, 'rsch': 2372, 'brady': 377, 'file': 1077, 'sephora': 2466, 'kendo': 1517, 'cmc': 541, 'cntrl': 551, 'related': 2293, 'psychiatric': 2209, 'electronic': 927, '12e': 15, 'novell': 1885, 'qt': 2237, 'webos': 2948, 'ai': 144, 'ok': 1929, 'repost14': 2309, '0675': 7, 'settlement': 2474, 'dmg': 852, '1101': 12, 'sources': 2538, 'honolulu': 1293, 'simplexgrinnell': 2499, 'tarceva': 2690, 'xtandi': 3003, 'tampa': 2687, 'csm': 703, 'turf': 2816, 'tms0015g': 2753, 'sii': 2495, 'coverage': 683, 'utah': 2852, 'custom': 713, 'independent': 1378, 'staples': 2588, 'sebastian': 2434, 'emea': 938, 'senoir': 2460, 'navigation': 1842, 'rail': 2251, 'leasing': 1572, 'effectiveness': 919, 'bat': 309, 'squad': 2569, 'sql': 2568, 'ppp': 2126, 'pdg': 2032, 'kentucky': 1519, '04052': 2, 'army': 234, 'merchandise': 1718, 'sld': 2510, 'prn': 2157, 'cl': 517, 'bioanalytical': 340, 'eds': 912, 'edge': 907, 'cashier': 450, 'infectious': 1389, 'diseases': 831, 'combat': 579, 'payload': 2023, 'eec': 916, 'acrobat': 94, 'cohnreznick': 564, 'supplies': 2653, 'lfg': 1584, 'manufacturer': 1660, 'subscriptions': 2634, 'installations': 1414, 'amazonsupply': 171, 'securitized': 2443, 'dss': 882, 'aurora': 276, 'representativee': 2312, 'hay': 1258, 'harvesting': 1257, 'wb': 2941, 'purpose': 2228, 'mass': 1679, 'pl': 2084, 'budgeting': 401, 'config': 618, 'ride': 2350, 'publication': 2216, 'broadband': 387, 'dls': 851, 'ebs': 896, 'fusion': 1162, 'biologics': 343, 'cne': 547, 'tooling': 2758, 'fid': 1073, 'financing': 1086, 'consultation': 633, 'designed': 781, 'switchgear': 2671, 'outdoor': 1981, 'divisonal': 850, 'homeownership': 1292, 'mars': 1677, 'consultantâ': 632, '596': 60, 'land': 1549, 'meter': 1732, 'naic': 1831, 'geologist': 1192, 'hle': 1289, 'dairy': 731, 'livonia': 1603, 'verifications': 2887, 'db': 742, 'fiery': 1075, 'fluid': 1109, 'meade': 1699, 'hydrocracking': 1332, 'isomerization': 1477, 'reforming': 2284, 'converged': 656, 'eliquis': 930, 'ppu': 2129, 'mocvd': 1789, 'household': 1304, 'campaigns': 421, 'medium': 1709, 'voltage': 2917, 'advance': 115, 'cybersource': 724, 'merchant': 1720, 'multiple': 1823, 'locations': 1613, 'latam': 1554, 'ib': 1339, 'contracting': 645, 'oss': 1977, 'enginee': 957, 'films': 1079, 'complex': 604, 'caps': 430, 'pur': 2223, 'cdis': 458, 'stockton': 2610, 'noncommunicable': 1879, 'disabilities': 824, 'catalog': 453, 'prã': 2204, 'sident': 2492, 'dispensing': 834, 'napoleon': 1834, 'tesa': 2723, 'kingstown': 1526, 'natural': 1840, 'understanding': 2827, 'lsr': 1629, 'docketing': 856, 'riser': 2352, 'cylinder': 727, 'extrusion': 1035, 'representive': 2313, 'logistician': 1617, 'cft': 478, 'irt': 1471, 'scom': 2419, 'pso': 2207, 'hydrogen': 1333, 'tactical': 2684, 'vehicles': 2880, 'technician': 2703, 'resourcing': 2332, 'clearpass': 525, 'channe': 485, 'delta1': 762, 'alcohol': 155, 'sacramento': 2385, 'royalties': 2369, 'asr': 245, 'prepared': 2140, 'compiler': 602, 'reservation': 2322, 'advantagepoint': 117, 'clearing': 524, 'j2ee': 1489, 'vcloud': 2874, 'hybrid': 1328, 'ntl': 1890, 'assi': 250, 'laser': 1553, '82': 69, 'arbor': 221, 'ussp': 2851, 'overlay': 1988, 'se': 2430, 'graphic': 1229, 'large': 1551, 'valuations': 2866, 'mgt': 1743, 'suppt': 2656, 'telecommuters': 2711, 'accepted': 79, 'dodge': 861, 'prod': 2167, 'verticals': 2889, 'ecosystem': 904, 'pharmacogenomics': 2057, 'liaison': 1586, 'metabolic': 1726, '0656': 5, 'outage': 1978, 'syst': 2680, 'lifecycle': 1593, 'cpa': 684, 'tunable': 2812, 'pluggable': 2101, 'modules': 1794, 'damage': 734, 'telecommunications': 2709, 'physiatrist': 2070, '0810': 9, 'lp': 1627, 'deu': 788, 'interiors': 1442, 'neonatal': 1852, 'afg': 128, 'blood': 358, 'disorders': 833, 'realty': 2271, '1170': 13, 'broad': 386, 'redlands': 2281, 'rsd': 2373, 'instructional': 1419, 'steering': 2603, 'blaze': 356, '0672': 6, 'living': 1602, 'dps': 871, 'statutory': 2598, 'qualified': 2239, 'cpu': 686, 'orange': 1962, 'structures': 2626, 've': 2875, 'fin': 1081, 'commissioning': 587, 'poultry': 2121, 'physicians': 2072, 'pine': 2077, 'ridge': 2351, 'naples': 1833, 'marking': 1676, 'coding': 560, 'biosurgery': 352, 'louisville': 1625, 'direction': 816, 'hearings': 1267, 'awm': 290, 'telematics': 2713, 'pos': 2119, 'venture': 2883, 'airplane': 148, 'flight': 1101, 'instructor': 1420, 'ssis': 2578, 'mso': 1815, 'biotechniques': 355, 'documentum': 859, 'coatings': 556, 'ds': 879, 'owner': 1992, 'lk01': 1604, 'kro': 1531, 'mp': 1808, 'structured': 2624, 'entarch': 970, 'pitching': 2081, 'leisure': 1579, 'db2': 743, 'fdic': 1063, 'arlington': 233, 'citizen': 513, 'resins': 2328, 'byrd': 410, 'leesville': 1576, 'sedasys': 2445, 'paint': 1999, 'portland': 2118, '704802': 66, 'opinion': 1950, 'tech012913stamct': 2700, 'wellpoint': 2954, 'sytems': 2683, 'knowledge': 1529, 'ocl': 1912, 'sealants': 2431, 'io': 1459, 'pick': 2076, 'tbm': 2696, 'excluding': 1020, 'brazil': 382, 'satellite': 2403, 'efb': 917, 'intermediary': 1443, '510': 59, '15': 23, 'agrm': 141, 'led': 1575, 'pittsburgh': 2082, 'lng': 1606, 'lawson': 1561, 'cim': 506, 'productopia': 2172, 'og': 1922, 'intelligent': 1434, 'saas': 2382, 'packet': 1998, 'isg': 1474, 'methodologies': 1735, 'tumor': 2811, 'biostatistician': 350, 'neuroscience': 1862, 'castrol': 452, 'self': 2452, 'introduction': 1450, 'adhesives': 106, 'specialties': 2555, 'cas': 447, 'workers': 2979, 'human_resources': 1324, 'pattern': 2018, 'smart': 2513, 'answers': 199, 'approval': 216, 'amsl655': 180, 'launch': 1558, 'zp': 3012, '1310': 18, 'equivalent': 986, 'mississ': 1773, 'bloomberg': 359, 'imm': 1364, 'injection': 1403, 'molding': 1797, 'petrochem': 2050, 'fitness': 1094, 'centres': 472, 'audio': 271, 'ethernet': 1003, 'tank': 2688, 'yield': 3008, 'dermablend': 775, 'sof': 2525, 'int': 1425, 'vrf': 2920, 'pbm': 2027, 'ray': 2262, 'diffraction': 808, 'share': 2480, 'teacher': 2697, 'arkansas': 232, 'competence': 600, 'softwaretest': 2528, 'audience': 270, 'bss': 395, 'television': 2715, 'employer': 944, 'commercialization': 585, 'hydropower': 1335, 'prin': 2149, '401k': 50, 'architectural': 225, 'historian': 1287, 'measurement': 1700, 'escalation': 990, 'number': 1891, '05200': 4, 'problem': 2159, 'oncogenomic': 1935, 'jose': 1507, 'cards': 437, 'payments': 2025, 'epd': 979, '3pl': 46, 'ppt': 2128, 'parent': 2004, 'characterization': 488, 'arts': 237, 'cardiac': 434, 'policies': 2106, 'skincare': 2507, 'lc': 1563, 'fulfillment': 1153, 'secaucus': 2436, 'investigations': 1454, 'metal': 1728, 'interconnection': 1439, '4018': 49, 'crown': 698, 'hispanic': 1285, 'iig': 1357, 'paladyne': 2000, 'tomtom': 2756, 'snr': 2521, 'mngr': 1784, 'aff': 126, 'salesperson': 2392, 'phy': 2068, 'directory': 821, 'physics': 2074, 'sensor': 2461, 'openings': 1942, 'judge': 1509, 'deal': 752, 'loyalty': 1626, 'wide': 2965, 'erisa': 987, 'thrombosis': 2740, 'menâ': 1715, 'nevada': 1864, 'viiv': 2898, 'finished': 1087, 'jewelry': 1502, 'informa': 1391, 'telecoms': 2712, 'sao': 2399, 'paulo': 2019, 'thales': 2730, 'visionix': 2908, 'asbestos': 238, 'captive': 431, 'thc': 2731, 'dha': 801, 'bim': 339, 'function': 1154, 'psychiatry': 2211, 'stewardship': 2606, 'borates': 371, 'eiu': 923, 'saalfeld': 2381, 'immunochemistry': 1365, 'airborne': 147, 'apple': 212, 'downstream': 869, 'sls': 2511, 'colorado': 574, 'mips': 1771, 'nc50544186': 1845, 'fx': 1165, 'toronto': 2761, 'myeloma': 1829, 'green': 1234, 'debugging': 756, 'ri': 2346, 'events': 1013, 'agriculture': 139, 'ast': 259, 'uap': 2821, 'prototype': 2199, 'shop': 2487, 'frm': 1146, 'aberdeen': 75, 'metallurgy': 1729, 'editor': 910, 'originals': 1968, 'svcs': 2666, 'proj': 2184, 'sacm': 2384, 'asst': 257, 'treasurer': 2793, 'spawar': 2548, 'clients': 529, 'eastbay': 893, 'hdd': 1263, 'labeling': 1539, 'pcm': 2030, 'ssd': 2575, 'micro': 1748, 'fae': 1045, 'flickr': 1100, 'hhs': 1279, 'fish': 1093, 'wildlife': 2967, 'flowers': 1107, 'garden': 1172, 'fsat': 1148, 'comperemedia': 599, 'vyatta': 2923, 'rtu': 2376, 'communities': 594, 'liquefaction': 1599, 'jr': 1508, 'forest': 1124, 'cvp': 718, 'firefox': 1089, 'c3': 412, 'interoperability': 1448, 'standardization': 2586, 'dish': 832, 'latino': 1557, 'cordis': 664, 'mtech': 1817, 'chandler': 482, 'implantable': 1369, 'hot': 1300, 'shot': 2489, 'pioneering': 2078, 'oems': 1915, 'hornell': 1295, 'weapons': 2945, 'examiner': 1017, 'supervision': 2648, '231016': 37, 'eam': 891, 'syclo': 2672, 'ebay': 895, 'residuals': 2327, 'gcs': 1177, 'zv': 3014, 'kh': 1523, 'roster': 2367, '246': 38, 'jlw': 1503, 'environments': 978, 'agribusiness': 138, 'farm': 1053, 'non': 1878, 'destiny': 785, 'outlet': 1982, 'sabine': 2383, 'informatica': 1392, 'cae': 416, 'hpc': 1307, 'engr': 964, 'mr': 1809, 'restructuring': 2337, 'vod': 2913, 'focus': 1114, 'body': 365, 'reqnamn02235': 2316, 'oklahoma': 1931, 'neurorology': 1861, 'mutual': 1827, 'platforms': 2098, 'ecoline': 898, 'dsph': 881, '855': 70, 'mb': 1690, 'zpic': 3013, 'multifamily': 1821, 'visualization': 2911, 'npd': 1886, 'alta': 167, 'vista': 2909, 'managers': 1651, 'geophysics': 1195, 'petrophysics': 2051, 'ggp': 1199, '46': 55, 'specifications': 2558, 'inflammation': 1390, 'biopharma': 347, 'ascena': 239, 'microscopy': 1753, 'plains': 2086, 'auto': 278, 'leather': 1573, 'goods': 1216, 'fair': 1046, 'smeuas': 2516, '1730': 26, '00': 0, 'consultative': 634, 'vh1': 2893, 'xolair': 2999, 'fellow': 1068, 'hernia': 1275, 'editorial': 911, 'rme': 2359, 'contemporary': 640, 'fashion': 1057, 'survery': 2661, 'usg': 2849, 'manger': 1658, 'fleet': 1099, 'rutherford': 2379, 'bc': 315, 'cio': 508, '7a': 68, '30p': 42, 'nrs': 1887, 'accuity': 90, 'xbox': 2996, 'studios': 2630, 'wine': 2969, 'perfume': 2044, 'forex': 1125, 'icm': 1347, 'economist': 903, 'arcade': 222, 'powertrain': 2123, 'commerical': 586, 'etch': 1002, 'shoes': 2486, 'tricare': 2800, 'wy': 2994, 'dakota': 732, 'scripting': 2422, 'capabilities': 426, 'afrco': 130, 'consultant_fcg_las': 630, 'educational': 914, 'stress': 2621, 'rado': 2250, 'eit': 922, 'initiative': 1401, 'ipm': 1465, 'continence': 642, 'machinery': 1634, 'csg': 702, 'developers': 793, 'architects': 224, 'threat': 2739, 'mis': 1772, 'engineered': 959, 'cash': 449, 'interdisciplinary': 1440, 'pharmacometrics': 2058, 'offer': 1917, 'deposits': 769, 'margin': 1667, 'dct': 750, 'shutdown': 2490, 'sage': 2387, 'palo': 2002, 'alto': 169, 'womenswear': 2975, 'nvestment': 1897, 'counselor': 677, 'gasoline': 1174, 'blending': 357, 'glastonbury': 1204, 'anesthesia': 194, 'owen': 1991, 'cto': 709, 'associations': 255, 'crop': 697, 'retina': 2341, 'der': 772, 'um': 2825, 'xtremio': 3004, 'gulf': 1244, 'ml': 1779, 'chemsitry': 498, 'hyperion': 1336, 'hfm': 1277, 'fdm': 1064, 'procedure': 2160, 'methanol': 1733, 'apheresis': 207, 'donor': 867, 'recruitment': 2279, 'sitecore': 2505, 'results': 2338, '14001168': 22, 'amos': 177, 'circulation': 509, 'nyo': 1902, 'kantor': 1515, 'prevention': 2146, 'impact': 1367, 'japan': 1494, 'inf': 1388, '161': 25, 'ph': 2053, 'ecomm': 900, 'al': 151, 'ares': 229, 'senioranalyst': 2459, 'tech120413nhgss': 2701, 'aliquippa': 157, 'loss': 1622, 'glo': 1205, 'hsm': 1317, 'didc': 805, 'pathology': 2016, 'trm': 2803, 'ceb': 461, 'bilingual': 337, 'informatin': 1394, 'sta': 2581, 'timing': 2746, 'gender': 1180, 'equality': 983, 'pulmonary': 2219, 'publishing': 2218, 'webmd': 2947, '443553': 54, 'localization': 1610, 'edi': 908, 'microbiology': 1752, 'embeded': 936, 'wifi': 2966, 'quark': 2243, 'expenses': 1027, 'rules': 2377, 'horticultural': 1296, 'premises': 2137, 'els': 932, 'cmo': 544, 'cooperative': 659, 'rjaf': 2357, 'centcom': 468, 'daytime': 741, 'floating': 1102, 'estimating': 999, 'recycling': 2280, 'hq': 1310, 'pwm': 2231, 'imd': 1363, 'sdlc': 2427, 'wdc': 2943, 'oahu': 1904, 'programmatic': 2179, 'campbell': 422, 'bas': 305, 'midâ': 1764, '1st': 28, 'residency': 2324, 'hach': 1252, 'aml': 176, 'helpdesk': 1271, 'cassandra': 451, 'bond': 368, 'unitek': 2833, 'help': 1270, 'syndications': 2675, 'alpharetta': 164, 'originations': 1970, 'fb': 1059, 'inkjet': 1404, 'wv': 2991, 'flsmidth': 1108, 'handling': 1254, 'wah': 2925, 'stream': 2620, 'ibd011714srtmt': 1341, 'qualitative': 2240, 'cmt': 545, 'propulsion': 2194, 'qlab': 2235, 'marietta': 1668, 'registered': 2288, 'pension': 2039, 'library': 1588, 'interconnect': 1438, 'creation': 688, 'accts': 89, 'lcp': 1564, 'rdit': 2266, 'memphis': 1711, 'insulin': 1423, 'pump': 2221, 'bayer': 312, 'rebate': 2272, 'atelier': 262, 'swarovski': 2669, 'porsche': 2115, 'timepieces': 2745, 'mandarin': 1656, 'chinese': 503, 'speaking': 2549, 'diverse': 845, 'mrkts': 1812, 'devlp': 799, 'siop': 2502, 'trait': 2772, 'div': 844, 'pega': 2036, 'areva': 230, 'theracutix': 2732, 'fps': 1136, 'prospective': 2196, 'sanlo': 2398, 'writing': 2989, 'cro': 696, 'modernization': 1792, 'legislative': 1578, 'ecology': 899, 'microbes': 1749, 'phd': 2062, 'alaska': 152, 'dom': 865, 'fifth': 1076, 'avenue': 287, 'riverview': 2356, 'bo': 362, 'emagine': 933, 'thermal': 2735, 'fico': 1072, 'brokerage': 389, 'av': 284, 'nfc': 1869, 'reader': 2268, 'automatic': 280, 'fare': 1052, 'identification': 1352, 'el': 924, 'segundo': 2451, 'costa': 674, 'mesa': 1723, '15e': 24, 'supervisorâ': 2651, 'coordinators': 662, 'fsi': 1149, 'syringe': 2677, 'customers': 715, 'labs': 1543, 'urs': 2842, 'feeds': 1067, 'ct9200': 708, 'mro': 1813, 'pexco': 2052, 'directeor': 815, 'css3': 704, 'segmentation': 2450, 'virology': 2903, 'janssen': 1493, 'mooring': 1804, 'es3': 989, '2245': 36, 'insolvency': 1410, 'westlock': 2958, 'mktg': 1777, 'cars': 446, 'planes': 2088, 'jake': 1492, 'originator': 1971, 'cleaning': 523, 'activation': 97, 'fa': 1036, 'alt': 166, 'investm': 1455, 'cnbc': 546, 'coleman': 566, 'golden': 1212, 'sam': 2395, '2017': 32, 'ivd': 1487, 'sub': 2631, 'pcg': 2029, 'sce': 2408, 'hartford': 1256, 'enhanced': 965, 'edd': 906, 'rtls': 2375, 'andover': 191, 'hem': 1272, 'hotels': 1302, '2008': 29, 'ria': 2347, 'ivi': 1488, 'ngen': 1873, 'xrd': 3001, 'xrf': 3002, 'collar': 569, 'obstetrician': 1906, 'gynecologist': 1248, 'clusterstor': 539, '316': 43, 'flash': 1097, 'nassau': 1836, 'suffolk': 2641, 'microwave': 1755, 'reproductive': 2314, 'toxicology': 2762, 'proprietary': 2193, 'volvo': 2918, 'aid': 145, 'tastebook': 2693, 'plastic': 2096, 'provo': 2202, 'sclerosis': 2418, 'vga': 2891, 'cameras': 419, 'iscm': 1473, 'btp': 397, 'marketplace': 1674, 'recruiter': 2277, 'clinically': 533, 'baptist': 304, 'enterprises': 973, 'hedge': 1269, 'competition': 601, 'sport': 2562, 'grand': 1228, 'nfp': 1871, 'fcr': 1061, 'mateo': 1683, 'microbial': 1750, '11e': 14, 'psych': 2208, 'inet': 1387, 'scotland': 2421, 'naval': 1841, 'surface': 2658, 'warfare': 2933, 'sp': 2544, 'pay': 2020, 'operators': 1948}\n",
      "3016\n",
      "(6459, 3016)\n"
     ]
    }
   ],
   "source": [
    "# \"Title\"\n",
    "vectorizer = TfidfVectorizer(stop_words='english')\n",
    "\n",
    "result = vectorizer.fit_transform(X_train['title'])\n",
    "print(vectorizer.vocabulary_)\n",
    "print(len(vectorizer.vocabulary_))\n",
    "print(result.shape)"
   ]
  },
  {
   "cell_type": "code",
   "execution_count": 95,
   "id": "048516ea",
   "metadata": {},
   "outputs": [
    {
     "data": {
      "text/html": [
       "<div>\n",
       "<style scoped>\n",
       "    .dataframe tbody tr th:only-of-type {\n",
       "        vertical-align: middle;\n",
       "    }\n",
       "\n",
       "    .dataframe tbody tr th {\n",
       "        vertical-align: top;\n",
       "    }\n",
       "\n",
       "    .dataframe thead th {\n",
       "        text-align: right;\n",
       "    }\n",
       "</style>\n",
       "<table border=\"1\" class=\"dataframe\">\n",
       "  <thead>\n",
       "    <tr style=\"text-align: right;\">\n",
       "      <th></th>\n",
       "      <th>00</th>\n",
       "      <th>01ef</th>\n",
       "      <th>04052</th>\n",
       "      <th>0442</th>\n",
       "      <th>05200</th>\n",
       "      <th>0656</th>\n",
       "      <th>0672</th>\n",
       "      <th>0675</th>\n",
       "      <th>0762</th>\n",
       "      <th>0810</th>\n",
       "      <th>...</th>\n",
       "      <th>year</th>\n",
       "      <th>years</th>\n",
       "      <th>yield</th>\n",
       "      <th>york</th>\n",
       "      <th>youtube</th>\n",
       "      <th>zone</th>\n",
       "      <th>zp</th>\n",
       "      <th>zpic</th>\n",
       "      <th>zv</th>\n",
       "      <th>zynga</th>\n",
       "    </tr>\n",
       "  </thead>\n",
       "  <tbody>\n",
       "    <tr>\n",
       "      <th>0</th>\n",
       "      <td>0.0</td>\n",
       "      <td>0.0</td>\n",
       "      <td>0.0</td>\n",
       "      <td>0.0</td>\n",
       "      <td>0.0</td>\n",
       "      <td>0.0</td>\n",
       "      <td>0.0</td>\n",
       "      <td>0.0</td>\n",
       "      <td>0.0</td>\n",
       "      <td>0.0</td>\n",
       "      <td>...</td>\n",
       "      <td>0.0</td>\n",
       "      <td>0.0</td>\n",
       "      <td>0.0</td>\n",
       "      <td>0.000000</td>\n",
       "      <td>0.0</td>\n",
       "      <td>0.0</td>\n",
       "      <td>0.0</td>\n",
       "      <td>0.0</td>\n",
       "      <td>0.0</td>\n",
       "      <td>0.0</td>\n",
       "    </tr>\n",
       "    <tr>\n",
       "      <th>1</th>\n",
       "      <td>0.0</td>\n",
       "      <td>0.0</td>\n",
       "      <td>0.0</td>\n",
       "      <td>0.0</td>\n",
       "      <td>0.0</td>\n",
       "      <td>0.0</td>\n",
       "      <td>0.0</td>\n",
       "      <td>0.0</td>\n",
       "      <td>0.0</td>\n",
       "      <td>0.0</td>\n",
       "      <td>...</td>\n",
       "      <td>0.0</td>\n",
       "      <td>0.0</td>\n",
       "      <td>0.0</td>\n",
       "      <td>0.431547</td>\n",
       "      <td>0.0</td>\n",
       "      <td>0.0</td>\n",
       "      <td>0.0</td>\n",
       "      <td>0.0</td>\n",
       "      <td>0.0</td>\n",
       "      <td>0.0</td>\n",
       "    </tr>\n",
       "    <tr>\n",
       "      <th>2</th>\n",
       "      <td>0.0</td>\n",
       "      <td>0.0</td>\n",
       "      <td>0.0</td>\n",
       "      <td>0.0</td>\n",
       "      <td>0.0</td>\n",
       "      <td>0.0</td>\n",
       "      <td>0.0</td>\n",
       "      <td>0.0</td>\n",
       "      <td>0.0</td>\n",
       "      <td>0.0</td>\n",
       "      <td>...</td>\n",
       "      <td>0.0</td>\n",
       "      <td>0.0</td>\n",
       "      <td>0.0</td>\n",
       "      <td>0.000000</td>\n",
       "      <td>0.0</td>\n",
       "      <td>0.0</td>\n",
       "      <td>0.0</td>\n",
       "      <td>0.0</td>\n",
       "      <td>0.0</td>\n",
       "      <td>0.0</td>\n",
       "    </tr>\n",
       "    <tr>\n",
       "      <th>3</th>\n",
       "      <td>0.0</td>\n",
       "      <td>0.0</td>\n",
       "      <td>0.0</td>\n",
       "      <td>0.0</td>\n",
       "      <td>0.0</td>\n",
       "      <td>0.0</td>\n",
       "      <td>0.0</td>\n",
       "      <td>0.0</td>\n",
       "      <td>0.0</td>\n",
       "      <td>0.0</td>\n",
       "      <td>...</td>\n",
       "      <td>0.0</td>\n",
       "      <td>0.0</td>\n",
       "      <td>0.0</td>\n",
       "      <td>0.000000</td>\n",
       "      <td>0.0</td>\n",
       "      <td>0.0</td>\n",
       "      <td>0.0</td>\n",
       "      <td>0.0</td>\n",
       "      <td>0.0</td>\n",
       "      <td>0.0</td>\n",
       "    </tr>\n",
       "    <tr>\n",
       "      <th>4</th>\n",
       "      <td>0.0</td>\n",
       "      <td>0.0</td>\n",
       "      <td>0.0</td>\n",
       "      <td>0.0</td>\n",
       "      <td>0.0</td>\n",
       "      <td>0.0</td>\n",
       "      <td>0.0</td>\n",
       "      <td>0.0</td>\n",
       "      <td>0.0</td>\n",
       "      <td>0.0</td>\n",
       "      <td>...</td>\n",
       "      <td>0.0</td>\n",
       "      <td>0.0</td>\n",
       "      <td>0.0</td>\n",
       "      <td>0.000000</td>\n",
       "      <td>0.0</td>\n",
       "      <td>0.0</td>\n",
       "      <td>0.0</td>\n",
       "      <td>0.0</td>\n",
       "      <td>0.0</td>\n",
       "      <td>0.0</td>\n",
       "    </tr>\n",
       "    <tr>\n",
       "      <th>...</th>\n",
       "      <td>...</td>\n",
       "      <td>...</td>\n",
       "      <td>...</td>\n",
       "      <td>...</td>\n",
       "      <td>...</td>\n",
       "      <td>...</td>\n",
       "      <td>...</td>\n",
       "      <td>...</td>\n",
       "      <td>...</td>\n",
       "      <td>...</td>\n",
       "      <td>...</td>\n",
       "      <td>...</td>\n",
       "      <td>...</td>\n",
       "      <td>...</td>\n",
       "      <td>...</td>\n",
       "      <td>...</td>\n",
       "      <td>...</td>\n",
       "      <td>...</td>\n",
       "      <td>...</td>\n",
       "      <td>...</td>\n",
       "      <td>...</td>\n",
       "    </tr>\n",
       "    <tr>\n",
       "      <th>6454</th>\n",
       "      <td>0.0</td>\n",
       "      <td>0.0</td>\n",
       "      <td>0.0</td>\n",
       "      <td>0.0</td>\n",
       "      <td>0.0</td>\n",
       "      <td>0.0</td>\n",
       "      <td>0.0</td>\n",
       "      <td>0.0</td>\n",
       "      <td>0.0</td>\n",
       "      <td>0.0</td>\n",
       "      <td>...</td>\n",
       "      <td>0.0</td>\n",
       "      <td>0.0</td>\n",
       "      <td>0.0</td>\n",
       "      <td>0.000000</td>\n",
       "      <td>0.0</td>\n",
       "      <td>0.0</td>\n",
       "      <td>0.0</td>\n",
       "      <td>0.0</td>\n",
       "      <td>0.0</td>\n",
       "      <td>0.0</td>\n",
       "    </tr>\n",
       "    <tr>\n",
       "      <th>6455</th>\n",
       "      <td>0.0</td>\n",
       "      <td>0.0</td>\n",
       "      <td>0.0</td>\n",
       "      <td>0.0</td>\n",
       "      <td>0.0</td>\n",
       "      <td>0.0</td>\n",
       "      <td>0.0</td>\n",
       "      <td>0.0</td>\n",
       "      <td>0.0</td>\n",
       "      <td>0.0</td>\n",
       "      <td>...</td>\n",
       "      <td>0.0</td>\n",
       "      <td>0.0</td>\n",
       "      <td>0.0</td>\n",
       "      <td>0.000000</td>\n",
       "      <td>0.0</td>\n",
       "      <td>0.0</td>\n",
       "      <td>0.0</td>\n",
       "      <td>0.0</td>\n",
       "      <td>0.0</td>\n",
       "      <td>0.0</td>\n",
       "    </tr>\n",
       "    <tr>\n",
       "      <th>6456</th>\n",
       "      <td>0.0</td>\n",
       "      <td>0.0</td>\n",
       "      <td>0.0</td>\n",
       "      <td>0.0</td>\n",
       "      <td>0.0</td>\n",
       "      <td>0.0</td>\n",
       "      <td>0.0</td>\n",
       "      <td>0.0</td>\n",
       "      <td>0.0</td>\n",
       "      <td>0.0</td>\n",
       "      <td>...</td>\n",
       "      <td>0.0</td>\n",
       "      <td>0.0</td>\n",
       "      <td>0.0</td>\n",
       "      <td>0.000000</td>\n",
       "      <td>0.0</td>\n",
       "      <td>0.0</td>\n",
       "      <td>0.0</td>\n",
       "      <td>0.0</td>\n",
       "      <td>0.0</td>\n",
       "      <td>0.0</td>\n",
       "    </tr>\n",
       "    <tr>\n",
       "      <th>6457</th>\n",
       "      <td>0.0</td>\n",
       "      <td>0.0</td>\n",
       "      <td>0.0</td>\n",
       "      <td>0.0</td>\n",
       "      <td>0.0</td>\n",
       "      <td>0.0</td>\n",
       "      <td>0.0</td>\n",
       "      <td>0.0</td>\n",
       "      <td>0.0</td>\n",
       "      <td>0.0</td>\n",
       "      <td>...</td>\n",
       "      <td>0.0</td>\n",
       "      <td>0.0</td>\n",
       "      <td>0.0</td>\n",
       "      <td>0.000000</td>\n",
       "      <td>0.0</td>\n",
       "      <td>0.0</td>\n",
       "      <td>0.0</td>\n",
       "      <td>0.0</td>\n",
       "      <td>0.0</td>\n",
       "      <td>0.0</td>\n",
       "    </tr>\n",
       "    <tr>\n",
       "      <th>6458</th>\n",
       "      <td>0.0</td>\n",
       "      <td>0.0</td>\n",
       "      <td>0.0</td>\n",
       "      <td>0.0</td>\n",
       "      <td>0.0</td>\n",
       "      <td>0.0</td>\n",
       "      <td>0.0</td>\n",
       "      <td>0.0</td>\n",
       "      <td>0.0</td>\n",
       "      <td>0.0</td>\n",
       "      <td>...</td>\n",
       "      <td>0.0</td>\n",
       "      <td>0.0</td>\n",
       "      <td>0.0</td>\n",
       "      <td>0.000000</td>\n",
       "      <td>0.0</td>\n",
       "      <td>0.0</td>\n",
       "      <td>0.0</td>\n",
       "      <td>0.0</td>\n",
       "      <td>0.0</td>\n",
       "      <td>0.0</td>\n",
       "    </tr>\n",
       "  </tbody>\n",
       "</table>\n",
       "<p>6459 rows × 3016 columns</p>\n",
       "</div>"
      ],
      "text/plain": [
       "       00  01ef  04052  0442  05200  0656  0672  0675  0762  0810  ...  year  \\\n",
       "0     0.0   0.0    0.0   0.0    0.0   0.0   0.0   0.0   0.0   0.0  ...   0.0   \n",
       "1     0.0   0.0    0.0   0.0    0.0   0.0   0.0   0.0   0.0   0.0  ...   0.0   \n",
       "2     0.0   0.0    0.0   0.0    0.0   0.0   0.0   0.0   0.0   0.0  ...   0.0   \n",
       "3     0.0   0.0    0.0   0.0    0.0   0.0   0.0   0.0   0.0   0.0  ...   0.0   \n",
       "4     0.0   0.0    0.0   0.0    0.0   0.0   0.0   0.0   0.0   0.0  ...   0.0   \n",
       "...   ...   ...    ...   ...    ...   ...   ...   ...   ...   ...  ...   ...   \n",
       "6454  0.0   0.0    0.0   0.0    0.0   0.0   0.0   0.0   0.0   0.0  ...   0.0   \n",
       "6455  0.0   0.0    0.0   0.0    0.0   0.0   0.0   0.0   0.0   0.0  ...   0.0   \n",
       "6456  0.0   0.0    0.0   0.0    0.0   0.0   0.0   0.0   0.0   0.0  ...   0.0   \n",
       "6457  0.0   0.0    0.0   0.0    0.0   0.0   0.0   0.0   0.0   0.0  ...   0.0   \n",
       "6458  0.0   0.0    0.0   0.0    0.0   0.0   0.0   0.0   0.0   0.0  ...   0.0   \n",
       "\n",
       "      years  yield      york  youtube  zone   zp  zpic   zv  zynga  \n",
       "0       0.0    0.0  0.000000      0.0   0.0  0.0   0.0  0.0    0.0  \n",
       "1       0.0    0.0  0.431547      0.0   0.0  0.0   0.0  0.0    0.0  \n",
       "2       0.0    0.0  0.000000      0.0   0.0  0.0   0.0  0.0    0.0  \n",
       "3       0.0    0.0  0.000000      0.0   0.0  0.0   0.0  0.0    0.0  \n",
       "4       0.0    0.0  0.000000      0.0   0.0  0.0   0.0  0.0    0.0  \n",
       "...     ...    ...       ...      ...   ...  ...   ...  ...    ...  \n",
       "6454    0.0    0.0  0.000000      0.0   0.0  0.0   0.0  0.0    0.0  \n",
       "6455    0.0    0.0  0.000000      0.0   0.0  0.0   0.0  0.0    0.0  \n",
       "6456    0.0    0.0  0.000000      0.0   0.0  0.0   0.0  0.0    0.0  \n",
       "6457    0.0    0.0  0.000000      0.0   0.0  0.0   0.0  0.0    0.0  \n",
       "6458    0.0    0.0  0.000000      0.0   0.0  0.0   0.0  0.0    0.0  \n",
       "\n",
       "[6459 rows x 3016 columns]"
      ]
     },
     "execution_count": 95,
     "metadata": {},
     "output_type": "execute_result"
    }
   ],
   "source": [
    "feature_names = vectorizer.get_feature_names_out()\n",
    "df = pd.DataFrame(result.toarray(), columns=feature_names)\n",
    "df"
   ]
  },
  {
   "cell_type": "code",
   "execution_count": 96,
   "id": "ab5771c3",
   "metadata": {},
   "outputs": [
    {
     "data": {
      "text/plain": [
       "array(['TX', 'WA', 'North Carolina', 'USA', 'NY', 'DC', 'IL', 'DE', 'CT',\n",
       "       'LA', 'CA', 'NH', 'New Jersey', 'CO', 'OR', 'Connecticut', 'VA',\n",
       "       'MA', 'MI', 'FL', 'GA', 'AZ', 'AK', 'NJ', 'New York', 'MO', 'OK',\n",
       "       'IN', 'PA', 'MD', 'MN', 'Virginia', 'AL', 'WI', 'ME',\n",
       "       'Pennsylvania', 'NE', 'OH', 'HI', 'Arkansas', 'Minnesota',\n",
       "       'Nebraska', 'Massachusetts', 'Washington', 'NC', 'SD', 'UT', 'NM',\n",
       "       'Illinois', 'Tennessee', 'ND', 'RI', 'PR', 'California',\n",
       "       'Missouri', 'Georgia', 'Texas', 'Utah', 'WV', 'Maryland', 'KS',\n",
       "       'KY', 'Ohio', 'South Carolina', 'ID', 'SC', 'IA', 'Hawaii', 'NV',\n",
       "       'TN', 'Michigan', 'Indiana', 'Florida', 'VT', 'Maine', 'AR',\n",
       "       'Colorado', 'Arizona', 'Kansas', 'MS', 'Mississippi', 'Wisconsin',\n",
       "       'West Virginia', 'Nevada', 'Niue', 'Oregon', 'New Hampshire',\n",
       "       'Calgary', 'Canada', 'New Mexico', 'Alabama', 'Iowa', 'Delaware',\n",
       "       'Toronto', 'Edmonton', 'North Dakota', 'Kentucky'], dtype=object)"
      ]
     },
     "execution_count": 96,
     "metadata": {},
     "output_type": "execute_result"
    }
   ],
   "source": [
    "data['location'].unique()"
   ]
  },
  {
   "cell_type": "code",
   "execution_count": null,
   "id": "a477a323",
   "metadata": {},
   "outputs": [
    {
     "data": {
      "text/plain": [
       "(6459, 94)"
      ]
     },
     "execution_count": 100,
     "metadata": {},
     "output_type": "execute_result"
    }
   ],
   "source": [
    "# Location\n",
    "# Rút gọn, chỉ lấy mã bang -> Có nhiều cách để lọc mã bang\n",
    "# Lọc khi đọc dữ liệu, hoặc sau đó (Xem ở trên)\n",
    "# Sau khi làm gọn, chỉ còn lại vài chục giá trị mã bang\n",
    "encoder = OneHotEncoder()\n",
    "result = encoder.fit_transform(X_train[['location']])\n",
    "result.shape"
   ]
  },
  {
   "cell_type": "markdown",
   "id": "8e9a3b36",
   "metadata": {},
   "source": [
    "### \"description\" column"
   ]
  },
  {
   "cell_type": "code",
   "execution_count": null,
   "id": "b5e01424",
   "metadata": {},
   "outputs": [
    {
     "name": "stdout",
     "output_type": "stream",
     "text": [
      "848945\n",
      "(6459, 848945)\n"
     ]
    }
   ],
   "source": [
    "\n",
    "# Với title, dùng unigram là vừa. Nhưng với description, nên kết hợp uni and bigram\n",
    "X_train['description'] = X_train['description'].fillna('')\n",
    "vectorizer = TfidfVectorizer(stop_words='english',ngram_range=(1,2))\n",
    "\n",
    "result = vectorizer.fit_transform(X_train['description'])\n",
    "# print(vectorizer.vocabulary_)\n",
    "print(len(vectorizer.vocabulary_))\n",
    "print(result.shape) \n",
    "# unigrams  shape: (6459, 66943)\n",
    "# unigrams + bigrams gram shape: (6459, 848945)"
   ]
  },
  {
   "cell_type": "markdown",
   "id": "193e7d4b",
   "metadata": {},
   "source": [
    "### \"function\" column"
   ]
  },
  {
   "cell_type": "code",
   "execution_count": null,
   "id": "ac29e134",
   "metadata": {},
   "outputs": [
    {
     "data": {
      "text/plain": [
       "19"
      ]
     },
     "execution_count": 119,
     "metadata": {},
     "output_type": "execute_result"
    }
   ],
   "source": [
    "data['function'].nunique()\n",
    "# 19 => dung onehot đơn giản hơn"
   ]
  },
  {
   "cell_type": "markdown",
   "id": "ac89e84f",
   "metadata": {},
   "source": [
    "### industry column"
   ]
  },
  {
   "cell_type": "code",
   "execution_count": 121,
   "id": "532c5249",
   "metadata": {},
   "outputs": [
    {
     "data": {
      "text/plain": [
       "352"
      ]
     },
     "execution_count": 121,
     "metadata": {},
     "output_type": "execute_result"
    }
   ],
   "source": [
    "data['industry'].nunique()\n",
    "# 352 => TF-IDF"
   ]
  },
  {
   "cell_type": "markdown",
   "id": "8bf6bdc1",
   "metadata": {},
   "source": [
    "# Conclusion\n",
    "- Các columns trên đều dùng Onehot và IFIDF được\n",
    "- TFIDF: text dài, text ngắn nhưng nhiều giá trị khác nhau\n",
    "- Onehot: "
   ]
  },
  {
   "cell_type": "markdown",
   "id": "42743493",
   "metadata": {},
   "source": [
    "## Self-build (not included in lesson 10)"
   ]
  },
  {
   "cell_type": "code",
   "execution_count": 144,
   "id": "ee924d37",
   "metadata": {},
   "outputs": [],
   "source": [
    "# Split types of columns for onehot or tf-idf\n",
    "text_columns = ['title', 'description', 'function']\n",
    "# short text or lesser unique values\n",
    "categorical_columns = ['location', 'industry']"
   ]
  },
  {
   "cell_type": "code",
   "execution_count": 152,
   "id": "b11aa038",
   "metadata": {},
   "outputs": [],
   "source": [
    "# TF-IDF transformer, use Functiontransformer\n",
    "tf_idf_transformer = Pipeline(steps=[\n",
    "    ('fillna', FunctionTransformer(lambda: x.fillna(''))),\n",
    "    ('vectorizer', TfidfVectorizer(stop_words='english', ngram_range=(1,2), max_features=10000))\n",
    "])"
   ]
  },
  {
   "cell_type": "code",
   "execution_count": 151,
   "id": "5572b2f2",
   "metadata": {},
   "outputs": [],
   "source": [
    "# Onehot Transfomer\n",
    "one_hot_transformer = Pipeline(steps=[\n",
    "    ('imputer', SimpleImputer(strategy='most_frequent')),\n",
    "    ('encoder', OneHotEncoder(handle_unknown='ignore'))\n",
    "])"
   ]
  },
  {
   "cell_type": "code",
   "execution_count": 162,
   "id": "644ce639",
   "metadata": {},
   "outputs": [],
   "source": [
    "preprocessor = ColumnTransformer(transformers=[\n",
    "    ('tf_idf_transformer',tf_idf_transformer, text_columns),\n",
    "    ('one_hot_transformer', one_hot_transformer,categorical_columns)\n",
    "])"
   ]
  },
  {
   "cell_type": "code",
   "execution_count": 163,
   "id": "f386e4f2",
   "metadata": {},
   "outputs": [],
   "source": [
    "logis = Pipeline(steps=[\n",
    "    ('preprocessor', preprocessor),\n",
    "    'classifier', LogisticRegression()\n",
    "])"
   ]
  }
 ],
 "metadata": {
  "kernelspec": {
   "display_name": "cs685hw",
   "language": "python",
   "name": "python3"
  },
  "language_info": {
   "codemirror_mode": {
    "name": "ipython",
    "version": 3
   },
   "file_extension": ".py",
   "mimetype": "text/x-python",
   "name": "python",
   "nbconvert_exporter": "python",
   "pygments_lexer": "ipython3",
   "version": "3.10.16"
  }
 },
 "nbformat": 4,
 "nbformat_minor": 5
}

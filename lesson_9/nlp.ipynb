{
 "cells": [
  {
   "cell_type": "markdown",
   "id": "bd34f510",
   "metadata": {},
   "source": [
    "# Natural Language Processing"
   ]
  },
  {
   "cell_type": "markdown",
   "id": "befb78fb",
   "metadata": {},
   "source": [
    "## Bag of words"
   ]
  },
  {
   "cell_type": "code",
   "execution_count": 4,
   "id": "2066483c",
   "metadata": {},
   "outputs": [],
   "source": [
    "from sklearn.feature_extraction.text import CountVectorizer"
   ]
  },
  {
   "cell_type": "code",
   "execution_count": 12,
   "id": "a3ce9457",
   "metadata": {},
   "outputs": [
    {
     "name": "stdout",
     "output_type": "stream",
     "text": [
      "Vocabulary:  ['fun' 'is' 'love' 'nlp']\n",
      "Bag of words matrix: \n",
      " [[0 0 1 1]\n",
      " [1 1 0 1]]\n"
     ]
    }
   ],
   "source": [
    "# Sample texts\n",
    "texts = [\"I love NLP\", \"NLP is fun\"]\n",
    "vectorizer = CountVectorizer()\n",
    "X = vectorizer.fit_transform(texts)\n",
    "print(\"Vocabulary: \", vectorizer.get_feature_names_out())\n",
    "print(\"Bag of words matrix: \\n\",X.toarray())"
   ]
  },
  {
   "cell_type": "markdown",
   "id": "bfabc5bf",
   "metadata": {},
   "source": [
    "## Text preprocessing"
   ]
  },
  {
   "cell_type": "markdown",
   "id": "58b83c1d",
   "metadata": {},
   "source": [
    "### My code for learning"
   ]
  },
  {
   "cell_type": "code",
   "execution_count": 35,
   "id": "c70d1282",
   "metadata": {},
   "outputs": [],
   "source": [
    "import nltk\n",
    "import string\n",
    "from nltk.corpus import stopwords\n",
    "from nltk.stem import PorterStemmer\n",
    "from nltk.tokenize import word_tokenize"
   ]
  },
  {
   "cell_type": "code",
   "execution_count": 41,
   "id": "36dd6840",
   "metadata": {},
   "outputs": [
    {
     "name": "stderr",
     "output_type": "stream",
     "text": [
      "[nltk_data] Downloading package punkt_tab to\n",
      "[nltk_data]     C:\\Users\\ADMIN\\AppData\\Roaming\\nltk_data...\n",
      "[nltk_data]   Package punkt_tab is already up-to-date!\n",
      "[nltk_data] Downloading package stopwords to\n",
      "[nltk_data]     C:\\Users\\ADMIN\\AppData\\Roaming\\nltk_data...\n",
      "[nltk_data]   Package stopwords is already up-to-date!\n"
     ]
    },
    {
     "data": {
      "text/plain": [
       "True"
      ]
     },
     "execution_count": 41,
     "metadata": {},
     "output_type": "execute_result"
    }
   ],
   "source": [
    "# Dơnload required courses\n",
    "nltk.download('punkt_tab')\n",
    "nltk.download('stopwords')"
   ]
  },
  {
   "cell_type": "code",
   "execution_count": 57,
   "id": "f0dd7045",
   "metadata": {},
   "outputs": [
    {
     "name": "stdout",
     "output_type": "stream",
     "text": [
      "Cleaned tokens: \n",
      " ['nlp', 'excit', 'field', 'enabl', 'machin', 'understand', 'human', 'languag']\n"
     ]
    }
   ],
   "source": [
    "corpus = \"NLP is a very exciting field! It enables machines to understand human language.\"\n",
    "# 1. Lower case\n",
    "data = corpus.lower()\n",
    "\n",
    "# 2. Remove punctuation\n",
    "data = data.translate(str.maketrans('','',string.punctuation))\n",
    "\n",
    "# 3. Tokenization\n",
    "tokens = word_tokenize(data)\n",
    "\n",
    "# 4. Remove stopwords\n",
    "stop_words = stopwords.words('english')\n",
    "tokens = [word for word in tokens if word not in stop_words]\n",
    "\n",
    "# 5. Stemming\n",
    "stemmer = PorterStemmer()\n",
    "stemmed_tokens = [stemmer.stem(word) for word in tokens]\n",
    "\n",
    "# Final result\n",
    "print(\"Cleaned tokens: \\n\", stemmed_tokens)"
   ]
  },
  {
   "cell_type": "code",
   "execution_count": 64,
   "id": "8ce39971",
   "metadata": {},
   "outputs": [
    {
     "name": "stdout",
     "output_type": "stream",
     "text": [
      "send\n",
      "excit\n"
     ]
    }
   ],
   "source": [
    "stemmer = PorterStemmer()\n",
    "print(stemmer.stem('sending'))\n",
    "print(stemmer.stem('excited'))"
   ]
  }
 ],
 "metadata": {
  "kernelspec": {
   "display_name": "cs685hw",
   "language": "python",
   "name": "python3"
  },
  "language_info": {
   "codemirror_mode": {
    "name": "ipython",
    "version": 3
   },
   "file_extension": ".py",
   "mimetype": "text/x-python",
   "name": "python",
   "nbconvert_exporter": "python",
   "pygments_lexer": "ipython3",
   "version": "3.10.16"
  }
 },
 "nbformat": 4,
 "nbformat_minor": 5
}

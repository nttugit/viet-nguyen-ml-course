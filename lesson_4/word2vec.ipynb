{
 "cells": [
  {
   "cell_type": "code",
   "execution_count": 3,
   "id": "0dec6578",
   "metadata": {},
   "outputs": [],
   "source": [
    "import gensim.downloader as api"
   ]
  },
  {
   "cell_type": "code",
   "execution_count": 4,
   "id": "8be534de",
   "metadata": {},
   "outputs": [
    {
     "name": "stdout",
     "output_type": "stream",
     "text": [
      "[ 1.5570e-01 -3.1625e-01 -2.1250e-01  4.1405e-01 -2.4336e-01 -2.5814e-01\n",
      "  6.0198e-01 -1.2874e-02 -2.5801e-01 -1.1705e-01 -1.0161e+00 -3.4759e-01\n",
      " -5.9778e-01 -5.2477e-02 -5.3001e-01  3.7903e-01 -8.3192e-02 -3.9779e-01\n",
      "  5.7424e-02 -5.0426e-01  3.7946e-01 -6.5643e-01 -2.7971e-01  4.0682e-01\n",
      "  8.1117e-02  1.0869e+00 -6.1673e-01  5.2669e-01  3.1021e-01  5.6527e-03\n",
      "  4.4281e-02  9.0971e-03  1.3414e-01  2.0696e-01 -1.0175e-01 -3.5890e-01\n",
      "  1.9712e-01 -4.0642e-01  4.3239e-02  2.0279e-01 -2.4207e-01 -6.4675e-01\n",
      "  7.8314e-03  4.2094e-02  8.0452e-02  3.2765e-01  4.7841e-01 -4.1913e-02\n",
      " -9.0236e-01 -2.0209e-01 -5.6725e-01  2.3022e-01 -2.5976e-01 -6.0808e-01\n",
      "  1.4408e-01  1.0924e-01  4.2314e-01 -3.0322e-02  2.1711e-01 -3.6142e-01\n",
      " -1.5254e-01 -3.4457e-01  1.6548e-01 -4.1695e-01  2.5581e-01  3.7149e-01\n",
      " -4.1998e-01  2.7614e-01 -2.2522e-01 -7.7013e-02 -8.3949e-02 -2.6755e-01\n",
      "  2.0316e-01  2.9918e-01  4.1178e-01  1.8117e-01  6.5023e-03 -6.1069e-02\n",
      " -3.2265e-01  4.7050e-01  9.1838e-01  2.6017e-01  3.1159e-01 -5.3799e-02\n",
      "  8.4250e-02  6.3240e-02  5.6744e-01  5.9088e-01 -5.4755e-01  1.3245e-01\n",
      "  2.1076e-02 -1.1548e-01 -2.1673e-01  1.3272e-02 -3.4715e-01 -1.1700e-01\n",
      "  1.9569e-01 -1.5177e-01  4.5602e-01 -6.7312e-02 -6.9728e-01  4.9557e-01\n",
      " -4.3653e-01 -3.0676e-01 -7.4978e-02  5.1795e-01  6.3797e-01 -2.0271e-01\n",
      " -5.0799e-01  5.1787e-01 -1.0125e-01 -3.8138e-04  1.5804e-01  9.3620e-01\n",
      " -1.1985e-01 -5.3944e-01 -7.5679e-01 -4.1353e-01 -3.2972e-01  6.2269e-01\n",
      "  2.6107e-01  8.7516e-02  2.5388e-03  4.4929e-02 -1.8619e-01  1.2925e-01\n",
      "  2.2935e-01 -7.7013e-01  8.8741e-02  3.5210e-01  8.8734e-01 -9.9508e-02\n",
      " -2.8114e-02  4.1568e-01  3.5324e-01  6.1947e-01  1.9733e-01 -7.3618e-02\n",
      " -6.0073e-01  1.7546e-01 -1.8385e-01  2.9349e-01  3.9509e-01 -1.0240e-01\n",
      " -3.8513e-01  6.7502e-02 -3.8083e-01  2.9146e-01 -8.3121e-02  1.0551e-02\n",
      " -1.7029e-01 -1.1733e-01 -4.7544e+00  1.4895e-01  7.3434e-02  1.3058e-01\n",
      " -2.0732e-01  2.6272e-01  1.0694e-01  4.1124e-03  4.0416e-01 -4.9547e-01\n",
      " -1.0541e+00  4.6204e-01  2.6830e-01 -3.7641e-01  3.2295e-02 -2.4331e-01\n",
      "  1.7689e-01  5.2140e-01  1.5279e-01 -6.0996e-01  1.1451e-01  1.8434e-01\n",
      "  3.8155e-01  9.0601e-01  1.1813e-01 -7.9879e-01  3.6207e-01 -2.2683e-01\n",
      "  1.2397e-01 -9.5020e-02  5.3296e-04 -1.1416e-02 -2.2240e-01 -4.7936e-01\n",
      " -6.6377e-01  2.7190e-01 -1.3010e-01 -3.5033e-01  4.5032e-01 -1.4985e-01\n",
      "  5.9429e-01  2.3283e-01  4.1755e-01  2.2472e-01 -9.2631e-03 -7.3651e-01\n",
      " -3.7381e-01 -5.1844e-01]\n"
     ]
    }
   ],
   "source": [
    "# 25, 50, 100, or 200. Số càng lớn thì càng chính xác, nhưng chạy càng lâu\n",
    "model = api.load('glove-twitter-200')\n",
    "word = 'beautiful'\n",
    "print(model[word])"
   ]
  },
  {
   "cell_type": "code",
   "execution_count": 12,
   "id": "a4b4bacf",
   "metadata": {},
   "outputs": [
    {
     "name": "stdout",
     "output_type": "stream",
     "text": [
      "[==================================================] 100.0% 104.8/104.8MB downloaded\n"
     ]
    }
   ],
   "source": [
    "model25 = api.load(\"glove-twitter-25\")"
   ]
  },
  {
   "cell_type": "code",
   "execution_count": 5,
   "id": "961abac8",
   "metadata": {},
   "outputs": [
    {
     "data": {
      "text/plain": [
       "[('gorgeous', 0.8635486960411072),\n",
       " ('amazing', 0.8066423535346985),\n",
       " ('lovely', 0.8024446964263916),\n",
       " ('wonderful', 0.7974167466163635),\n",
       " ('stunning', 0.7667908668518066),\n",
       " ('perfect', 0.7646695375442505),\n",
       " ('pretty', 0.7626513242721558),\n",
       " ('love', 0.7306696176528931),\n",
       " ('great', 0.7199927568435669),\n",
       " ('nice', 0.7046647071838379)]"
      ]
     },
     "execution_count": 5,
     "metadata": {},
     "output_type": "execute_result"
    }
   ],
   "source": [
    "result1 = model.most_similar(word,topn=10)\n",
    "result1"
   ]
  },
  {
   "cell_type": "code",
   "execution_count": 16,
   "id": "416e614f",
   "metadata": {},
   "outputs": [
    {
     "data": {
      "text/plain": [
       "[('gorgeous', 0.933364748954773),\n",
       " ('lovely', 0.9279096722602844),\n",
       " ('amazing', 0.9218392968177795),\n",
       " ('love', 0.9173232913017273),\n",
       " ('wonderful', 0.9150214791297913),\n",
       " ('loving', 0.9093379974365234),\n",
       " ('dream', 0.9086582660675049),\n",
       " ('pretty', 0.9071912169456482),\n",
       " ('perfect', 0.9066720008850098),\n",
       " ('little', 0.906454861164093)]"
      ]
     },
     "execution_count": 16,
     "metadata": {},
     "output_type": "execute_result"
    }
   ],
   "source": [
    "result11 = model25.most_similar(word,topn=10)\n",
    "result11"
   ]
  },
  {
   "cell_type": "code",
   "execution_count": 7,
   "id": "e9c0ea93",
   "metadata": {},
   "outputs": [
    {
     "data": {
      "text/plain": [
       "[('december', 0.907620370388031),\n",
       " ('june', 0.9018447399139404),\n",
       " ('march', 0.8975365161895752),\n",
       " ('october', 0.894588053226471),\n",
       " ('august', 0.8828887939453125),\n",
       " ('july', 0.8735243678092957),\n",
       " ('november', 0.8638648390769958),\n",
       " ('september', 0.8534837961196899),\n",
       " ('april', 0.8389040231704712),\n",
       " ('feb.', 0.7601770758628845)]"
      ]
     },
     "execution_count": 7,
     "metadata": {},
     "output_type": "execute_result"
    }
   ],
   "source": [
    "result2 = model.most_similar(positive=[\"january\", \"february\"], topn=10)\n",
    "result2"
   ]
  },
  {
   "cell_type": "code",
   "execution_count": 17,
   "id": "d74df38b",
   "metadata": {},
   "outputs": [
    {
     "data": {
      "text/plain": [
       "[('march', 0.9706878662109375),\n",
       " ('october', 0.9691615104675293),\n",
       " ('june', 0.9538876414299011),\n",
       " ('december', 0.9475950002670288),\n",
       " ('august', 0.9452325701713562),\n",
       " ('july', 0.9375306963920593),\n",
       " ('november', 0.9197096228599548),\n",
       " ('dec', 0.8917480707168579),\n",
       " ('monday', 0.8903121948242188),\n",
       " ('wednesday', 0.8874315619468689)]"
      ]
     },
     "execution_count": 17,
     "metadata": {},
     "output_type": "execute_result"
    }
   ],
   "source": [
    "result22 = model25.most_similar(positive=[\"january\", \"february\"], topn=10)\n",
    "result22"
   ]
  },
  {
   "cell_type": "code",
   "execution_count": 11,
   "id": "ebb38d29",
   "metadata": {},
   "outputs": [
    {
     "data": {
      "text/plain": [
       "0.6613607"
      ]
     },
     "execution_count": 11,
     "metadata": {},
     "output_type": "execute_result"
    }
   ],
   "source": [
    "result3 = model.similarity(\"man\",\"woman\")\n",
    "result3"
   ]
  },
  {
   "cell_type": "code",
   "execution_count": 18,
   "id": "ae789981",
   "metadata": {},
   "outputs": [
    {
     "data": {
      "text/plain": [
       "0.76541775"
      ]
     },
     "execution_count": 18,
     "metadata": {},
     "output_type": "execute_result"
    }
   ],
   "source": [
    "result33 = model25.similarity(\"man\",\"woman\")\n",
    "result33"
   ]
  },
  {
   "cell_type": "code",
   "execution_count": 15,
   "id": "36f844ae",
   "metadata": {},
   "outputs": [
    {
     "data": {
      "text/plain": [
       "[('queen', 0.6820898056030273),\n",
       " ('prince', 0.5875527262687683),\n",
       " ('princess', 0.5620489120483398)]"
      ]
     },
     "execution_count": 15,
     "metadata": {},
     "output_type": "execute_result"
    }
   ],
   "source": [
    "result4 = model.most_similar(positive=[\"woman\",\"king\"], negative=[\"man\"],topn=3)\n",
    "result4"
   ]
  },
  {
   "cell_type": "code",
   "execution_count": 19,
   "id": "d268c624",
   "metadata": {},
   "outputs": [
    {
     "data": {
      "text/plain": [
       "[('meets', 0.8841924071311951),\n",
       " ('prince', 0.832163393497467),\n",
       " ('queen', 0.8257461190223694)]"
      ]
     },
     "execution_count": 19,
     "metadata": {},
     "output_type": "execute_result"
    }
   ],
   "source": [
    "result44 = model25.most_similar(positive=[\"woman\",\"king\"], negative=[\"man\"],topn=3)\n",
    "result44"
   ]
  },
  {
   "cell_type": "code",
   "execution_count": 24,
   "id": "d6e0235d",
   "metadata": {},
   "outputs": [
    {
     "data": {
      "text/plain": [
       "[('germany', 0.6267244815826416),\n",
       " ('war', 0.5748059749603271),\n",
       " ('uk', 0.567527711391449)]"
      ]
     },
     "execution_count": 24,
     "metadata": {},
     "output_type": "execute_result"
    }
   ],
   "source": [
    "result5 = model.most_similar(positive=[\"berlin\",\"vietnam\"], negative=[\"hanoi\"],topn=3)\n",
    "result5"
   ]
  },
  {
   "cell_type": "code",
   "execution_count": 25,
   "id": "d7a30dce",
   "metadata": {},
   "outputs": [
    {
     "data": {
      "text/plain": [
       "[('same-sex', 0.5411794781684875),\n",
       " ('gaymarriage', 0.42385825514793396),\n",
       " ('polygamy', 0.42147937417030334),\n",
       " ('anti-gay', 0.4137153625488281),\n",
       " ('equalmarriage', 0.4075453579425812),\n",
       " ('abortion', 0.39324524998664856),\n",
       " ('samesexmarriage', 0.390194296836853),\n",
       " ('marriageequality', 0.38229212164878845),\n",
       " ('pro-gay', 0.3816159665584564),\n",
       " ('legalizing', 0.3705289959907532)]"
      ]
     },
     "execution_count": 25,
     "metadata": {},
     "output_type": "execute_result"
    }
   ],
   "source": [
    "result6 = model.most_similar(\"marriage\",\"happiness\")\n",
    "result6"
   ]
  },
  {
   "cell_type": "markdown",
   "id": "7cc311ae",
   "metadata": {},
   "source": [
    "### Todo\n",
    "Tính consine similarity giữa 2 vector.\n",
    "\n",
    "Kết quả giống với model.similarity()\n",
    "\n",
    "1) Không dùng numpy\n",
    "2) Dùng numpy\n",
    "3) Dùng thư viện"
   ]
  },
  {
   "cell_type": "code",
   "execution_count": 26,
   "id": "8355e457",
   "metadata": {},
   "outputs": [],
   "source": [
    "word1 = \"handsome\"\n",
    "word2 = \"beautiful\""
   ]
  },
  {
   "cell_type": "code",
   "execution_count": 28,
   "id": "edbe85fa",
   "metadata": {},
   "outputs": [
    {
     "name": "stdout",
     "output_type": "stream",
     "text": [
      "[-1.1449   -1.2065    0.095172 -0.84758   0.082323  0.57461   1.3943\n",
      "  1.3154   -0.13374  -0.070168 -1.1355    1.4194   -2.448    -0.81937\n",
      " -0.49256  -0.19049   0.83571  -1.4152   -0.52901   0.20588   0.78822\n",
      "  0.84816  -1.4914   -0.097688 -1.5254  ]\n",
      "[-1.5578   -0.99442   0.30093   0.055712  0.096052  0.29998   2.1864\n",
      "  0.38417  -1.0875   -0.63333  -0.73723   0.40719  -4.343     0.062952\n",
      " -1.08     -0.27538   0.32506  -0.31789  -0.19544   0.64269  -0.021329\n",
      " -0.32933  -0.76828  -0.054674 -0.41345 ]\n"
     ]
    }
   ],
   "source": [
    "vector1 = model25[word1]\n",
    "vector2 = model25[word2]\n",
    "print(vector1)\n",
    "print(vector2)"
   ]
  },
  {
   "cell_type": "markdown",
   "id": "c80b784a",
   "metadata": {},
   "source": [
    "#### 1. Không dùng numpy"
   ]
  },
  {
   "cell_type": "code",
   "execution_count": 43,
   "id": "90189fad",
   "metadata": {},
   "outputs": [
    {
     "data": {
      "text/plain": [
       "0.7441876077087693"
      ]
     },
     "execution_count": 43,
     "metadata": {},
     "output_type": "execute_result"
    }
   ],
   "source": [
    "import math\n",
    "\n",
    "def calculate_dot_product(v1,v2):\n",
    "    return sum(x*y for x,y in zip(v1,v2))\n",
    "def calculate_vector_norm(vec):\n",
    "    return math.sqrt(sum(x**2 for x in vec))\n",
    "\n",
    "norm1 = calculate_vector_norm(vector1)\n",
    "norm2 =  calculate_vector_norm(vector2)\n",
    "dot_product_v1_v2 = calculate_dot_product(vector1,vector2)\n",
    "cos_sim_word_1_2 = dot_product_v1_v2 / (norm1 * norm2)\n",
    "cos_sim_word_1_2"
   ]
  },
  {
   "cell_type": "markdown",
   "id": "097c7808",
   "metadata": {},
   "source": [
    "#### 2. Dùng numpy"
   ]
  },
  {
   "cell_type": "code",
   "execution_count": 51,
   "id": "b838cdc3",
   "metadata": {},
   "outputs": [
    {
     "data": {
      "text/plain": [
       "0.74418765"
      ]
     },
     "execution_count": 51,
     "metadata": {},
     "output_type": "execute_result"
    }
   ],
   "source": [
    "# cos_sim_word_1_2 = \n",
    "import numpy as np\n",
    "norm1 = np.linalg.norm(vector1)\n",
    "norm2 = np.linalg.norm(vector2)\n",
    "dot_product_v1_v2 = np.dot(vector1,vector2)\n",
    "cos_sim_word_1_2 = dot_product_v1_v2 / (norm1 * norm2)\n",
    "cos_sim_word_1_2"
   ]
  },
  {
   "cell_type": "markdown",
   "id": "b6175fc6",
   "metadata": {},
   "source": [
    "#### 3. Dùng hàm có sẵn"
   ]
  },
  {
   "cell_type": "code",
   "execution_count": 54,
   "id": "e6a19715",
   "metadata": {},
   "outputs": [
    {
     "data": {
      "text/plain": [
       "0.74418765"
      ]
     },
     "execution_count": 54,
     "metadata": {},
     "output_type": "execute_result"
    }
   ],
   "source": [
    "from sklearn.metrics.pairwise import cosine_similarity\n",
    "cos_sim_word_1_2 = cosine_similarity(vector1.reshape(1,-1),vector2.reshape(1,-1))\n",
    "cos_sim_word_1_2[0][0]"
   ]
  }
 ],
 "metadata": {
  "kernelspec": {
   "display_name": "cs685hw",
   "language": "python",
   "name": "python3"
  },
  "language_info": {
   "codemirror_mode": {
    "name": "ipython",
    "version": 3
   },
   "file_extension": ".py",
   "mimetype": "text/x-python",
   "name": "python",
   "nbconvert_exporter": "python",
   "pygments_lexer": "ipython3",
   "version": "3.10.16"
  }
 },
 "nbformat": 4,
 "nbformat_minor": 5
}
